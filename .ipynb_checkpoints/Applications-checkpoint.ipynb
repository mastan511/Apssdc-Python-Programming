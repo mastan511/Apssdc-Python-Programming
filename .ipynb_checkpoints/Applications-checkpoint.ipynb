{
 "cells": [
  {
   "cell_type": "markdown",
   "metadata": {},
   "source": [
    "\n",
    "### Find and Replace Application\n",
    "\n",
    "- Check if a word is existing in a file\n",
    "    - wordExists(filepath, word)\n",
    "- Count the total number of occurrences of a word in a file\n",
    "    - countWordOccurrences(filepath, word)\n",
    "- Replace all occurences of a word in a file\n",
    "    - replaceWord(filepath, word)\n",
    "    \n",
    "\n",
    "### Marks Analysis Report\n",
    "- Generate Marks\n",
    "    - generateMarks(n, lb, ub)\n",
    "- Generate a report of the following\n",
    "    - Class Average - classAverage(filepath)\n",
    "    - % Passed - passPercentage(filepath)\n",
    "    - % Failed - failPercentage(filepath)\n",
    "    - % Distinction - distinctionPercentage(filepath)\n",
    "    - Frequency of Highest mark - frequencyHighest(filepath)\n",
    "    - Frequency of lowest mark - frequencyLowest(filepath)\n",
    "    - GenerateReport(filepath):\n",
    "    \n",
    " ### Contacts Application\n",
    " - addContact(name, phone, email)\n",
    " - searchContact(name)\n",
    " - listContacts()\n",
    " - editContact(name, newphone, newemail)\n",
    " - deleteContact(name)\n",
    " - contactsApp()\n",
    "    \n"
   ]
  }
 ],
 "metadata": {
  "kernelspec": {
   "display_name": "Python 3",
   "language": "python",
   "name": "python3"
  },
  "language_info": {
   "codemirror_mode": {
    "name": "ipython",
    "version": 3
   },
   "file_extension": ".py",
   "mimetype": "text/x-python",
   "name": "python",
   "nbconvert_exporter": "python",
   "pygments_lexer": "ipython3",
   "version": "3.7.3"
  }
 },
 "nbformat": 4,
 "nbformat_minor": 2
}
