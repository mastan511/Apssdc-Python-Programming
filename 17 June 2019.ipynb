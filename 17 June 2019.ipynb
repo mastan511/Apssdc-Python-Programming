{
 "cells": [
  {
   "cell_type": "code",
   "execution_count": 3,
   "metadata": {},
   "outputs": [
    {
     "data": {
      "text/plain": [
       "'a b c'"
      ]
     },
     "execution_count": 3,
     "metadata": {},
     "output_type": "execute_result"
    }
   ],
   "source": [
    "s = 'abc'\n",
    "s=list(s)\n",
    "\" \".join(s)"
   ]
  },
  {
   "cell_type": "code",
   "execution_count": 4,
   "metadata": {},
   "outputs": [
    {
     "ename": "TypeError",
     "evalue": "sequence item 0: expected str instance, builtin_function_or_method found",
     "output_type": "error",
     "traceback": [
      "\u001b[1;31m---------------------------------------------------------------------------\u001b[0m",
      "\u001b[1;31mTypeError\u001b[0m                                 Traceback (most recent call last)",
      "\u001b[1;32m<ipython-input-4-02f74ecb7ff5>\u001b[0m in \u001b[0;36m<module>\u001b[1;34m\u001b[0m\n\u001b[0;32m     10\u001b[0m             \u001b[0mt\u001b[0m\u001b[1;33m.\u001b[0m\u001b[0mappend\u001b[0m\u001b[1;33m(\u001b[0m\u001b[0mc\u001b[0m\u001b[1;33m.\u001b[0m\u001b[0mlower\u001b[0m\u001b[1;33m)\u001b[0m\u001b[1;33m\u001b[0m\u001b[1;33m\u001b[0m\u001b[0m\n\u001b[0;32m     11\u001b[0m     \u001b[1;32mreturn\u001b[0m \u001b[1;34m\"\"\u001b[0m\u001b[1;33m.\u001b[0m\u001b[0mjoin\u001b[0m\u001b[1;33m(\u001b[0m\u001b[0mt\u001b[0m\u001b[1;33m)\u001b[0m\u001b[1;33m\u001b[0m\u001b[1;33m\u001b[0m\u001b[0m\n\u001b[1;32m---> 12\u001b[1;33m \u001b[0mtoggleString\u001b[0m\u001b[1;33m(\u001b[0m\u001b[1;34m\"Abc\"\u001b[0m\u001b[1;33m)\u001b[0m\u001b[1;33m\u001b[0m\u001b[1;33m\u001b[0m\u001b[0m\n\u001b[0m\u001b[0;32m     13\u001b[0m \u001b[1;33m\u001b[0m\u001b[0m\n",
      "\u001b[1;32m<ipython-input-4-02f74ecb7ff5>\u001b[0m in \u001b[0;36mtoggleString\u001b[1;34m(s)\u001b[0m\n\u001b[0;32m      9\u001b[0m         \u001b[1;32melse\u001b[0m\u001b[1;33m:\u001b[0m\u001b[1;33m\u001b[0m\u001b[1;33m\u001b[0m\u001b[0m\n\u001b[0;32m     10\u001b[0m             \u001b[0mt\u001b[0m\u001b[1;33m.\u001b[0m\u001b[0mappend\u001b[0m\u001b[1;33m(\u001b[0m\u001b[0mc\u001b[0m\u001b[1;33m.\u001b[0m\u001b[0mlower\u001b[0m\u001b[1;33m)\u001b[0m\u001b[1;33m\u001b[0m\u001b[1;33m\u001b[0m\u001b[0m\n\u001b[1;32m---> 11\u001b[1;33m     \u001b[1;32mreturn\u001b[0m \u001b[1;34m\"\"\u001b[0m\u001b[1;33m.\u001b[0m\u001b[0mjoin\u001b[0m\u001b[1;33m(\u001b[0m\u001b[0mt\u001b[0m\u001b[1;33m)\u001b[0m\u001b[1;33m\u001b[0m\u001b[1;33m\u001b[0m\u001b[0m\n\u001b[0m\u001b[0;32m     12\u001b[0m \u001b[0mtoggleString\u001b[0m\u001b[1;33m(\u001b[0m\u001b[1;34m\"Abc\"\u001b[0m\u001b[1;33m)\u001b[0m\u001b[1;33m\u001b[0m\u001b[1;33m\u001b[0m\u001b[0m\n\u001b[0;32m     13\u001b[0m \u001b[1;33m\u001b[0m\u001b[0m\n",
      "\u001b[1;31mTypeError\u001b[0m: sequence item 0: expected str instance, builtin_function_or_method found"
     ]
    }
   ],
   "source": [
    "# Function to toggle string charcters\n",
    "def toggleString(s):\n",
    "    # Convert the string into a list of characters\n",
    "    s = list(s)\n",
    "    t = []\n",
    "    for c in s:\n",
    "        if c.islower():\n",
    "            t.append(c.upper())\n",
    "        else:\n",
    "            t.append(c.lower)\n",
    "    return \"\".join(t)\n",
    "toggleString(\"Abc\")\n",
    "    "
   ]
  },
  {
   "cell_type": "markdown",
   "metadata": {},
   "source": [
    "### Playing with numbers\n",
    "line 1 : array size ,no of queries\n",
    "line 2: n Array elemnets\n",
    "next q lines : query - sub array of the original array\n",
    "\n",
    "5 3 \n",
    "1 2 3 4 5 \n",
    "1 2\n",
    "0 5\n",
    "\n"
   ]
  },
  {
   "cell_type": "code",
   "execution_count": 1,
   "metadata": {},
   "outputs": [
    {
     "ename": "SyntaxError",
     "evalue": "invalid syntax (<ipython-input-1-da94668bd4df>, line 1)",
     "output_type": "error",
     "traceback": [
      "\u001b[1;36m  File \u001b[1;32m\"<ipython-input-1-da94668bd4df>\"\u001b[1;36m, line \u001b[1;32m1\u001b[0m\n\u001b[1;33m    line 1\u001b[0m\n\u001b[1;37m         ^\u001b[0m\n\u001b[1;31mSyntaxError\u001b[0m\u001b[1;31m:\u001b[0m invalid syntax\n"
     ]
    }
   ],
   "source": [
    "line 1 "
   ]
  },
  {
   "cell_type": "code",
   "execution_count": 4,
   "metadata": {},
   "outputs": [
    {
     "name": "stdout",
     "output_type": "stream",
     "text": [
      "ejdj6\n",
      "1\n",
      "4\n"
     ]
    }
   ],
   "source": [
    "def CountOfDigits(s):\n",
    "    charcount=0\n",
    "    digitcount=0\n",
    "    for i in range(0,len(s)):\n",
    "        if((ord(s[i])>=97 and ord(s[i])<=122) or (ord(s[i])>=65 and ord(s[i])<=90)):\n",
    "            charcount= charcount+1\n",
    "        elif(ord(s[i])>=48 and ord(s[i])<=57):\n",
    "            digitcount = digitcount+1\n",
    "    print(digitcount)\n",
    "    print(charcount)\n",
    "    \n",
    "    \n",
    "\n",
    "s=input()\n",
    "CountOfDigits(s)"
   ]
  },
  {
   "cell_type": "code",
   "execution_count": 10,
   "metadata": {},
   "outputs": [
    {
     "name": "stdout",
     "output_type": "stream",
     "text": [
      "apssdc@123\n",
      "3\n",
      "6\n"
     ]
    }
   ],
   "source": [
    "def CountOfDigits(s):\n",
    "    charcount=0\n",
    "    digitcount=0\n",
    "    for i in range(0,len(s)):\n",
    "        if((s[i]>='a' and s[i]<='z') or (s[i]>='A' and s[i]<='Z')):\n",
    "            charcount= charcount+1\n",
    "        elif(s[i]>='0' and s[i]<='9'):\n",
    "            digitcount = digitcount+1\n",
    "    print(digitcount)\n",
    "    print(charcount)\n",
    "    \n",
    "    \n",
    "\n",
    "s=input()\n",
    "CountOfDigits(s)"
   ]
  },
  {
   "cell_type": "code",
   "execution_count": 13,
   "metadata": {},
   "outputs": [
    {
     "name": "stdout",
     "output_type": "stream",
     "text": [
      "hii@#123\n",
      "3\n",
      "3\n"
     ]
    }
   ],
   "source": [
    "def CountOfDigits(s):\n",
    "    charcount=0\n",
    "    digitcount=0\n",
    "    for i in range(0,len(s)):\n",
    "        if(s[i].islower() or s[i].isupper()): #s[i].isalpha()\n",
    "            charcount= charcount+1\n",
    "        elif(s[i].isnumeric()):# s[i].isnumeric()\n",
    "            digitcount = digitcount+1\n",
    "    print(digitcount)\n",
    "    print(charcount)\n",
    "    \n",
    "    \n",
    "\n",
    "s=input()\n",
    "CountOfDigits(s)"
   ]
  },
  {
   "cell_type": "code",
   "execution_count": 23,
   "metadata": {},
   "outputs": [
    {
     "name": "stdout",
     "output_type": "stream",
     "text": [
      "2\n",
      "28\n",
      "YES\n",
      "6\n",
      "YES\n"
     ]
    }
   ],
   "source": [
    "def factors(n):\n",
    "    s=0\n",
    "    for i in range(1,n):\n",
    "        if(n%i==0):\n",
    "            s=s+i\n",
    "    if(n==s):\n",
    "        return \"YES\" \n",
    "    else:\n",
    "        return \"NO\"\n",
    "testcases=int(input())\n",
    "for i in range(testcases):\n",
    "    n=int(input())\n",
    "    print(factors(n))"
   ]
  },
  {
   "cell_type": "code",
   "execution_count": 24,
   "metadata": {},
   "outputs": [
    {
     "name": "stdout",
     "output_type": "stream",
     "text": [
      "2\n",
      "5\n",
      "3\n",
      "4\n",
      "3\n"
     ]
    }
   ],
   "source": [
    "\n",
    "\n",
    "def highrem(n): #5\n",
    "    r=0\n",
    "    for i in range(1,n):\n",
    "        rem=n%i #5%1=0,5%2=1,5%3=2,5%4=1\n",
    "        if rem>r: #1>0  2>1  1!>2\n",
    "            r=rem  #r=1  r=2  \n",
    "            j=i   #j=2   j=3\n",
    "    return j\n",
    "    \n",
    "t=int(input())\n",
    "for i in range(t):\n",
    "    n=int(input())\n",
    "    print(highrem(n))   "
   ]
  },
  {
   "cell_type": "code",
   "execution_count": 31,
   "metadata": {},
   "outputs": [
    {
     "name": "stdout",
     "output_type": "stream",
     "text": [
      "NO\n"
     ]
    }
   ],
   "source": [
    "def prime_number(n1):\n",
    "    fc=0\n",
    "    for k in range(2,n1):\n",
    "        n=k\n",
    "        c=0\n",
    "        for i in range(1,n+1):\n",
    "            if(n%i==0):\n",
    "                c=c+1\n",
    "        if(c==2):\n",
    "                fc=fc+1\n",
    "    if(fc==2):\n",
    "        print(\"YES\")\n",
    "    else:\n",
    "        print(\"NO\")\n",
    "prime_number()"
   ]
  },
  {
   "cell_type": "code",
   "execution_count": null,
   "metadata": {},
   "outputs": [],
   "source": [
    "def is_prime(n1):\n",
    "        c=0\n",
    "        for i in range(1,n+1):\n",
    "            if(n%i==0):\n",
    "                c=c+1\n",
    "        if(c==2):\n",
    "                return 1\n",
    "prime_number()"
   ]
  }
 ],
 "metadata": {
  "kernelspec": {
   "display_name": "Python 3",
   "language": "python",
   "name": "python3"
  },
  "language_info": {
   "codemirror_mode": {
    "name": "ipython",
    "version": 3
   },
   "file_extension": ".py",
   "mimetype": "text/x-python",
   "name": "python",
   "nbconvert_exporter": "python",
   "pygments_lexer": "ipython3",
   "version": "3.7.3"
  }
 },
 "nbformat": 4,
 "nbformat_minor": 2
}
