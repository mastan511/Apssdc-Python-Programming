{
 "cells": [
  {
   "cell_type": "markdown",
   "metadata": {},
   "source": [
    "### Date:22 June 2019\n",
    "### Day Objectives\n",
    "- File Handling\n",
    "    - Basic File Data processing\n",
    "        - Accessing and Modifying file Data \n",
    "    - Character Count \n",
    "    - Line Count\n",
    "    - File Size\n",
    "    - word Count\n",
    "    - Unique word count\n",
    "    - "
   ]
  },
  {
   "cell_type": "code",
   "execution_count": 1,
   "metadata": {},
   "outputs": [
    {
     "data": {
      "text/plain": [
       "['newData m m d f g', 'h  g h j', 'f', 'e', 'd']"
      ]
     },
     "execution_count": 1,
     "metadata": {},
     "output_type": "execute_result"
    }
   ],
   "source": [
    "# Read a FIle  - Files Should exist (READ MODE)\n",
    "# Write into a file - Existing(append MODE) or new File (WRITE MODE)\n",
    "def readFile(filepath):\n",
    "    with open(filepath,'r') as f:\n",
    "        fileData = f.read()\n",
    "        lines = fileData.split(\"\\n\")\n",
    "        #lines = []\n",
    "        #for line in f:\n",
    "            #lines.append(line)\n",
    "    return lines\n",
    "filepath = \"DataFiles/data.txt\"\n",
    "readFile(filepath)\n",
    "    "
   ]
  },
  {
   "cell_type": "code",
   "execution_count": 21,
   "metadata": {},
   "outputs": [
    {
     "name": "stdout",
     "output_type": "stream",
     "text": [
      "4\n"
     ]
    }
   ],
   "source": [
    "# Function to create a number of line in a file\n",
    "def numberOfLinesinFIle(filepath):\n",
    "    with open(filepath,'r') as f:\n",
    "        number_of_lines = 0\n",
    "#         number_of_ch = 0\n",
    "        for line in f:\n",
    "            number_of_lines+=1\n",
    "#             s = f.read\n",
    "#             for ch in range(len(str(s))):\n",
    "#                 number_of_ch+=1\n",
    "#             print(number_of_lines)\n",
    "        return number_of_lines\n",
    "filepath = \"DataFiles/data.txt\"\n",
    "print(numberOfLinesinFIle(filepath))\n",
    "            "
   ]
  },
  {
   "cell_type": "code",
   "execution_count": 50,
   "metadata": {},
   "outputs": [
    {
     "name": "stdout",
     "output_type": "stream",
     "text": [
      "23\n"
     ]
    }
   ],
   "source": [
    "# Function to create to find the characters count in single line \n",
    "def singleLinecharacterCount(filepath):\n",
    "    with open(filepath,'r') as f:\n",
    "        fileData = f.read()\n",
    "        count = 0\n",
    "        s = str(fileData).strip().replace(\" \",\"\")\n",
    "        for i in range(len(s)):\n",
    "            count+=1\n",
    "        print(count)\n",
    "\n",
    "filepath = \"DataFiles/data.txt\"\n",
    "singleLinecharacterCount(filepath)\n"
   ]
  },
  {
   "cell_type": "code",
   "execution_count": 51,
   "metadata": {},
   "outputs": [
    {
     "name": "stdout",
     "output_type": "stream",
     "text": [
      "19\n"
     ]
    }
   ],
   "source": [
    "# Function to create to find the character count\n",
    "def characterCount(filepath):\n",
    "    with open(filepath,'r') as f:\n",
    "        fileData = f.read()\n",
    "        c = 0\n",
    "        for i in fileData:\n",
    "            if i==\" \" or i==\"\\n\":\n",
    "                continue\n",
    "            else:\n",
    "                c=c+1\n",
    "        print(c)\n",
    "                \n",
    "            \n",
    "\n",
    "filepath = \"DataFiles/data.txt\"\n",
    "characterCount(filepath)"
   ]
  },
  {
   "cell_type": "code",
   "execution_count": 1,
   "metadata": {},
   "outputs": [
    {
     "name": "stdout",
     "output_type": "stream",
     "text": [
      "mastan mastan vali valimastan\n"
     ]
    }
   ],
   "source": [
    "def readFile(filepath):\n",
    "    with open(filepath, 'r') as f:\n",
    "        filedata = f.read() # Reads the entire file data into a string\n",
    "    return filedata\n",
    "\n",
    "filepath = 'DataFiles/data.txt'\n",
    "print(readFile(filepath))"
   ]
  },
  {
   "cell_type": "code",
   "execution_count": 4,
   "metadata": {},
   "outputs": [
    {
     "data": {
      "text/plain": [
       "['DataFiles/data.txt']"
      ]
     },
     "execution_count": 4,
     "metadata": {},
     "output_type": "execute_result"
    }
   ],
   "source": [
    "# Function to count the number of words in a file\n",
    "import re\n",
    "\n",
    "def wordCountFile(filepath):\n",
    "    pattern = '[ \\n]'\n",
    "    filedata = readFile(filepath)\n",
    "    count = len(re.split(pattern, filedata))\n",
    "    return count\n",
    "def wordsFromFile(filepath):\n",
    "    pattern = '[ \\n]'\n",
    "    filedata = readFile(filepath)\n",
    "    allwordslist = re.split(pattern,filepath)\n",
    "    return allwordslist\n",
    "filepath = 'DataFiles/data.txt'\n",
    "wordCountFile(filepath)\n",
    "wordsFromFile(filepath)"
   ]
  },
  {
   "cell_type": "code",
   "execution_count": 61,
   "metadata": {},
   "outputs": [
    {
     "name": "stdout",
     "output_type": "stream",
     "text": [
      "13\n"
     ]
    }
   ],
   "source": [
    "# Function to create a find the number of words in afile\n",
    "def numberOfWords(filepath):\n",
    "    with open(filepath,'r') as f:\n",
    "        fileData = f.read().split()\n",
    "        print(len(fileData))\n",
    "filepath = \"DataFiles/data.txt\"\n",
    "numberOfWords(filepath)"
   ]
  },
  {
   "cell_type": "code",
   "execution_count": 8,
   "metadata": {},
   "outputs": [
    {
     "data": {
      "text/plain": [
       "3"
      ]
     },
     "execution_count": 8,
     "metadata": {},
     "output_type": "execute_result"
    }
   ],
   "source": [
    "# Fuction to get unique elements in alist\n",
    "#[1,2,3,3,2,1] - > [1,2,3]\n",
    "# create a empty unique list \n",
    "\n",
    "def uniqueData(li):\n",
    "    uniqueList = []\n",
    "    # For every element in the main list,check if it exists in the uniqueList\n",
    "    #If does not exist add it to unique list\n",
    "    #else if it alraedy exists,Move on to the next element in the main list\n",
    "    for element in li:\n",
    "        if element not in uniqueList:\n",
    "            uniqueList.append(element)\n",
    "    return len(uniqueList)\n",
    "\n",
    "\n",
    "def readWordsinFile(filepath):\n",
    "    with open(filepath,'r') as f:\n",
    "        filedata = f.read().split(\" \")\n",
    "    return filedata\n",
    "\n",
    "\n",
    "filepath = \"DataFiles/data.txt\"\n",
    "uniqueData(readWordsinFile(filepath))\n",
    "\n"
   ]
  },
  {
   "cell_type": "code",
   "execution_count": null,
   "metadata": {},
   "outputs": [],
   "source": [
    "def countUniqueWords(filepath):\n",
    "    "
   ]
  },
  {
   "cell_type": "code",
   "execution_count": 9,
   "metadata": {},
   "outputs": [
    {
     "name": "stdout",
     "output_type": "stream",
     "text": [
      "Data  3\n",
      "in  3\n",
      "line  3\n",
      "1  1\n",
      "2  1\n",
      "3  1\n"
     ]
    }
   ],
   "source": [
    "# Function to print the frequency count of  all unique words frequency distribution \n",
    "#Data in line 1\n",
    "#Data in line 2\n",
    "#Data in line 3\n",
    "#O/p\n",
    "# Data : 3\n",
    "# in :3\n",
    "# line : 3\n",
    "# 1:1\n",
    "# 2:1\n",
    "# 3:1\n",
    "def wordsFrequencyDistributioninFile(filename):\n",
    "    count = 0\n",
    "    with open(filename) as f:\n",
    "        filedata = f.read().split()\n",
    "        ds = {}\n",
    "        ls = []\n",
    "        for i in range(0,len(filedata)):\n",
    "            count = 0\n",
    "            temp = []\n",
    "            if filedata[i] in filedata:\n",
    "                for j in range(0,len(filedata)):\n",
    "                    if(filedata[i]==filedata[j]):\n",
    "                        count+=1\n",
    "                        temp.append(filedata[i])\n",
    "            ds[filedata[i]] = temp\n",
    "        for key in ds:\n",
    "            print(key,\"\",len(ds[key]))\n",
    "wordsFrequencyDistributioninFile('DataFiles/sample.txt')"
   ]
  },
  {
   "cell_type": "code",
   "execution_count": null,
   "metadata": {},
   "outputs": [],
   "source": [
    "def FreqDistributionOfWords(filepath):\n",
    "    # Dictionary to be used\n",
    "    # Key -> Unique words\n",
    "    # Values -> Count of unique words\n",
    "    \n",
    "    \n",
    "# Two lists\n",
    "    # All words list\n",
    "    # Unique words list\n",
    "# set\n"
   ]
  },
  {
   "cell_type": "code",
   "execution_count": null,
   "metadata": {},
   "outputs": [],
   "source": [
    "# Contacts Application\n",
    "    # Add ,Search,List,Modify Delete Contacts\n",
    "    \n",
    "# FInd and Replace Application\n",
    "    # Count the totalNumber of occurances of a word\n",
    "    # If Word is existing \n",
    "    # replace all ocuurances of a word with another word\n",
    "#Marks Analysis Application\n",
    "    # Generate marks file for n students - (Rand.int())\n",
    "    # Input : Marks text file - each line contains marks of one student\n",
    "    # Generates a report with the following information\n",
    "        # Class Average\n",
    "        # % of students passed\n",
    "        # % of students failed\n",
    "        # % of students with distinction\n",
    "        # Highest Mark Frequency\n",
    "        # Lowest Mark Frequency\n",
    "    \n",
    "    \n"
   ]
  },
  {
   "cell_type": "code",
   "execution_count": 8,
   "metadata": {},
   "outputs": [],
   "source": [
    "# Function to generate marks data for n students\n",
    "from random import randint\n",
    "def generateMarks(n,lb,ub):\n",
    "    with open('DataFiles/marks.txt','w') as f:\n",
    "        for i in range(0,n):\n",
    "            r = randint(lb,ub)\n",
    "            f.write(str(r)+'\\n')\n",
    "    return\n",
    "generateMarks(10000,0,100)\n",
    "    \n",
    "    "
   ]
  },
  {
   "cell_type": "markdown",
   "metadata": {},
   "source": [
    "### String Practices"
   ]
  },
  {
   "cell_type": "code",
   "execution_count": 60,
   "metadata": {},
   "outputs": [
    {
     "name": "stdout",
     "output_type": "stream",
     "text": [
      "Yes\n"
     ]
    }
   ],
   "source": [
    "s = \"hello World\"\n",
    "if s.title():\n",
    "    print(\"Yes\")\n",
    "else:\n",
    "    print(\"No\")"
   ]
  },
  {
   "cell_type": "code",
   "execution_count": 7,
   "metadata": {},
   "outputs": [
    {
     "name": "stdout",
     "output_type": "stream",
     "text": [
      "1\n",
      "aa\n",
      "aa\n",
      "0\n",
      "0\n"
     ]
    }
   ],
   "source": [
    "def anagrams(s1,s2):\n",
    "    count = 0\n",
    "    for i in range(0,len(s1)):\n",
    "        for j in range(0,len(s2)):\n",
    "            if s1[i] == s2[j]:\n",
    "                continue\n",
    "            else:\n",
    "                count+=1\n",
    "    print(count//2)\n",
    "            \n",
    "        \n",
    "n = int(input())\n",
    "for j in range(n):\n",
    "    s1 = input()\n",
    "    s2 = input()\n",
    "    anagrams(s1,s2)\n"
   ]
  },
  {
   "cell_type": "code",
   "execution_count": 3,
   "metadata": {},
   "outputs": [
    {
     "name": "stdout",
     "output_type": "stream",
     "text": [
      "1\n",
      "abc\n",
      "abc\n"
     ]
    }
   ],
   "source": [
    "n=int(input())\n",
    "for i in range(0,n):\n",
    "    s=input()\n",
    "    s1=input()\n"
   ]
  },
  {
   "cell_type": "code",
   "execution_count": null,
   "metadata": {},
   "outputs": [],
   "source": []
  }
 ],
 "metadata": {
  "kernelspec": {
   "display_name": "Python 3",
   "language": "python",
   "name": "python3"
  },
  "language_info": {
   "codemirror_mode": {
    "name": "ipython",
    "version": 3
   },
   "file_extension": ".py",
   "mimetype": "text/x-python",
   "name": "python",
   "nbconvert_exporter": "python",
   "pygments_lexer": "ipython3",
   "version": "3.7.3"
  }
 },
 "nbformat": 4,
 "nbformat_minor": 2
}
