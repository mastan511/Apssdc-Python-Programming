{
 "cells": [
  {
   "cell_type": "markdown",
   "metadata": {},
   "source": [
    "### Datae 28 June 2019\n",
    "### Day Objectives\n",
    "- Maps\n",
    "- Lambda\n",
    "- Filters\n",
    "- Use Cases  - File /Data Encryption"
   ]
  },
  {
   "cell_type": "markdown",
   "metadata": {},
   "source": [
    "### Map\n",
    "Mapping - Mapping between Entity with Function\n",
    "f : X^2\n",
    "x : [1,10]\n",
    "    f(x) : x**2\n",
    " X         Y\n",
    " 1         1\n",
    " 2         4\n",
    " 3         9\n",
    " .         .\n",
    " .         .\n",
    " .         .\n",
    " .         .\n",
    " 10        100\n",
    "map(function,Iterable)\n"
   ]
  },
  {
   "cell_type": "code",
   "execution_count": 4,
   "metadata": {},
   "outputs": [
    {
     "data": {
      "text/plain": [
       "16"
      ]
     },
     "execution_count": 4,
     "metadata": {},
     "output_type": "execute_result"
    }
   ],
   "source": [
    "def powerN(a,n):\n",
    "    r=1\n",
    "    for i in range(0,n):\n",
    "        r*=a#r=r*a\n",
    "    return r\n",
    "powerN(2,10)\n",
    "def recursivePowerN(a,n):\n",
    "    if n == 0:\n",
    "        return 1\n",
    "    else:\n",
    "        return a * recursivePowerN(a,n-1)\n",
    "recursivePowerN(2,4)\n",
    "        "
   ]
  },
  {
   "cell_type": "code",
   "execution_count": 55,
   "metadata": {},
   "outputs": [
    {
     "data": {
      "text/plain": [
       "[1, 8, 27, 64, 125, 216]"
      ]
     },
     "execution_count": 55,
     "metadata": {},
     "output_type": "execute_result"
    }
   ],
   "source": [
    "def cube(n):\n",
    "    return n**3\n",
    "li = [1,2,3,4,5,6]\n",
    "set(map(cube,li))\n",
    "list(map(cube,li))\n",
    "set(map(cube,[123]))\n",
    "numbers = [int(i) for i in li]\n",
    "numbers\n",
    "[cube(i) for i in li]\n",
    "#List Comprehension aplly for map and filters"
   ]
  },
  {
   "cell_type": "code",
   "execution_count": 19,
   "metadata": {},
   "outputs": [
    {
     "data": {
      "text/plain": [
       "('1', '2', '3', '4')"
      ]
     },
     "execution_count": 19,
     "metadata": {},
     "output_type": "execute_result"
    }
   ],
   "source": [
    "li = ['1','2','3','4']\n",
    "li2 = list(map(int,li))\n",
    "li2\n",
    "list(map(str,li2))\n",
    "tuple(map(str,li2))"
   ]
  },
  {
   "cell_type": "markdown",
   "metadata": {},
   "source": [
    "### Filter\n",
    "Used to check boolean values\n",
    "\n",
    "f: x - > {T,F}\n",
    "X        Y\n",
    "1       \n",
    "2        2\n",
    "3        3\n",
    "4\n",
    "5        5\n",
    "\n"
   ]
  },
  {
   "cell_type": "code",
   "execution_count": 28,
   "metadata": {},
   "outputs": [
    {
     "data": {
      "text/plain": [
       "[1, 2, 'a', 'b', 'c', 3, 100, 0]"
      ]
     },
     "execution_count": 28,
     "metadata": {},
     "output_type": "execute_result"
    }
   ],
   "source": [
    "li = [1,2,'a','b','c',3,100,0]\n",
    "def isDigit(c):\n",
    "    c = str(c)\n",
    "    if c.isdigit():\n",
    "        return -1# -1 ,True,False\n",
    "    return True\n",
    "isDigit(\"a\")\n",
    "list(filter(isDigit, li))"
   ]
  },
  {
   "cell_type": "code",
   "execution_count": 53,
   "metadata": {},
   "outputs": [
    {
     "name": "stdout",
     "output_type": "stream",
     "text": [
      "[503, 509, 521, 523, 541, 547, 557, 563, 569, 571, 577, 587, 593, 599]\n",
      "[503, 509, 521, 523, 541, 547, 557, 563, 569, 571, 577, 587, 593, 599]\n",
      "[True, True, True, False, True]\n"
     ]
    }
   ],
   "source": [
    "# Identify all primes in a given rage\n",
    "# def isPrime(li):\n",
    "#     fact = 0\n",
    "#     prime = []\n",
    "#     for i in range(len(li)):\n",
    "#         if li[i]%2 == 1:\n",
    "#             fact+=1\n",
    "#     if fact == 2:\n",
    "#         return True\n",
    "#     else:\n",
    "#         return False\n",
    "# isPrime([1,2,3,4,5])\n",
    "\n",
    "\n",
    "def isPrime(num):\n",
    "    for i in range(2,num//2+1):\n",
    "        if num % i == 0:\n",
    "            return False\n",
    "    return True\n",
    "primelist=list(filter(isPrime,range(500,600)))\n",
    "\n",
    "primelist2 = [i for i in range(500,600) if isPrime(i)]\n",
    "primelistusingmap = list(map(isPrime,[1,2,3,4,5]))\n",
    "# MAp fails beacause it doesn't apply for conditions\n",
    "print(primelist2)\n",
    "print(primelist)\n",
    "print(primelistusingmap)"
   ]
  },
  {
   "cell_type": "code",
   "execution_count": 38,
   "metadata": {},
   "outputs": [
    {
     "data": {
      "text/plain": [
       "False"
      ]
     },
     "execution_count": 38,
     "metadata": {},
     "output_type": "execute_result"
    }
   ],
   "source": [
    "def isPrime(li):\n",
    "    fact = 0\n",
    "    prime = []\n",
    "    for i in range(1,len(li)):\n",
    "        if li[i]%i == 1:\n",
    "            fact+=1\n",
    "        elif fact == 2:\n",
    "            prime.append(li[i])\n",
    "            print(prime)\n",
    "        else:\n",
    "            return False\n",
    "isPrime([1,2,3,4,5])"
   ]
  },
  {
   "cell_type": "code",
   "execution_count": null,
   "metadata": {},
   "outputs": [],
   "source": []
  },
  {
   "cell_type": "markdown",
   "metadata": {},
   "source": [
    "### Lambda\n",
    "\n",
    "Anonymous(unKnown) Function\n",
    "Can be embedded into List Comprehension,Maps,Filters\n",
    "\n"
   ]
  },
  {
   "cell_type": "code",
   "execution_count": 72,
   "metadata": {},
   "outputs": [
    {
     "data": {
      "text/plain": [
       "[1, 3, 5]"
      ]
     },
     "execution_count": 72,
     "metadata": {},
     "output_type": "execute_result"
    }
   ],
   "source": [
    "a = lambda x: x**3\n",
    "a(3)\n",
    "list(map(lambda x: x**3,[1,2,3,4,5,6,7]))\n",
    "list(filter(lambda x:(x%2!=0),[1,2,3,4,5,6]))"
   ]
  },
  {
   "cell_type": "code",
   "execution_count": 85,
   "metadata": {},
   "outputs": [
    {
     "name": "stdout",
     "output_type": "stream",
     "text": [
      "[9, 7, 8, 7]\n"
     ]
    }
   ],
   "source": [
    "import random\n",
    "internal1 = [random.randint(0,25) for i in range(0,10)]\n",
    "internal2 = [random.randint(0,25) for i in range(0,10)]\n",
    "internal3 = [random.randint(0,25) for i in range(0,10)]\n",
    "averageIntrenal = list(map(lambda x,y,z:(x+y+z)//3,internal1,internal2,internal3))\n",
    "# print(internal1)\n",
    "# print(internal2)\n",
    "# print(internal3)\n",
    "failedMarks = list(filter(lambda x:x < 10,averageIntrenal))\n",
    "print(failedMarks)"
   ]
  },
  {
   "cell_type": "code",
   "execution_count": null,
   "metadata": {},
   "outputs": [],
   "source": []
  },
  {
   "cell_type": "markdown",
   "metadata": {},
   "source": [
    "### Applying Functional Programming to the Marks analysis application"
   ]
  },
  {
   "cell_type": "code",
   "execution_count": 1,
   "metadata": {},
   "outputs": [
    {
     "name": "stdout",
     "output_type": "stream",
     "text": [
      "Marks generated Successfully\n"
     ]
    }
   ],
   "source": [
    "# Generate Marks Data\n",
    "from random import randint\n",
    "def generateMarks(n,lb,ub):\n",
    "    filename = 'DataFiles/marks.txt'\n",
    "    with open(filename,'w') as f:\n",
    "        for i in range(n):\n",
    "            marks = randint(lb,ub)\n",
    "            f.write(str(marks)+\"\\n\")\n",
    "        print(\"Marks generated Successfully\")\n",
    "generateMarks(300,0,100)\n",
    "        \n",
    "        "
   ]
  },
  {
   "cell_type": "code",
   "execution_count": 10,
   "metadata": {},
   "outputs": [],
   "source": [
    "def readMarkslist(filepath):\n",
    "    with open(filename,'r') as f:\n",
    "        fileData=f.read().split()\n",
    "        #markslist = re.split('\\n',fileData)\n",
    "        markslist = list(map(int,fileData))\n",
    "    return markslist"
   ]
  },
  {
   "cell_type": "code",
   "execution_count": 13,
   "metadata": {},
   "outputs": [
    {
     "data": {
      "text/plain": [
       "50"
      ]
     },
     "execution_count": 13,
     "metadata": {},
     "output_type": "execute_result"
    }
   ],
   "source": [
    "# Marks Analysis\n",
    "# Class Average,% passed,%failed,%distinction,Frequency of Highest and lowest\n",
    "#import re\n",
    "\n",
    "def classAverage(filename):\n",
    "        markslist = readMarkslist(filename)\n",
    "        classAverage = sum(markslist)//len(markslist)\n",
    "    #print(markslist)\n",
    "        return classAverage\n",
    "    \n",
    "filename='DataFiles/marks.txt'\n",
    "classAverage(filename)\n",
    "\n",
    "\n",
    "\n",
    "\n"
   ]
  },
  {
   "cell_type": "code",
   "execution_count": 20,
   "metadata": {},
   "outputs": [
    {
     "data": {
      "text/plain": [
       "39.666666666666664"
      ]
     },
     "execution_count": 20,
     "metadata": {},
     "output_type": "execute_result"
    }
   ],
   "source": [
    "#% Failes\n",
    "def percentageFailed(filepath):\n",
    "    marksList = readMarkslist(filepath)\n",
    "    failedStudentsCount = len(list(filter(lambda marks: marks < 40,marksList)))\n",
    "    return (failedStudentsCount/len(marksList))*100\n",
    "filepath ='DataFiles/marks.txt'\n",
    "percentageFailed(filepath)"
   ]
  },
  {
   "cell_type": "code",
   "execution_count": 21,
   "metadata": {},
   "outputs": [
    {
     "data": {
      "text/plain": [
       "60.333333333333336"
      ]
     },
     "execution_count": 21,
     "metadata": {},
     "output_type": "execute_result"
    }
   ],
   "source": [
    "# % PAssed\n",
    "def percentagePAssed(filepath):\n",
    "    markslist = readMarkslist(filepath)\n",
    "    return abs(percentageFailed(filepath)-100)\n",
    "filepath ='DataFiles/marks.txt'\n",
    "percentagePAssed(filepath)"
   ]
  },
  {
   "cell_type": "code",
   "execution_count": 22,
   "metadata": {},
   "outputs": [
    {
     "data": {
      "text/plain": [
       "26.666666666666668"
      ]
     },
     "execution_count": 22,
     "metadata": {},
     "output_type": "execute_result"
    }
   ],
   "source": [
    "# % Distinction \n",
    "def distinction(filepath):\n",
    "    markslist = readMarkslist(filepath)\n",
    "    distinctionCount = len(list(filter(lambda marks: marks >= 75,markslist)))\n",
    "    return (distinctionCount/len(markslist))*100\n",
    "filepath ='DataFiles/marks.txt'\n",
    "distinction(filepath)"
   ]
  },
  {
   "cell_type": "code",
   "execution_count": 29,
   "metadata": {},
   "outputs": [
    {
     "data": {
      "text/plain": [
       "(2, 100)"
      ]
     },
     "execution_count": 29,
     "metadata": {},
     "output_type": "execute_result"
    }
   ],
   "source": [
    "# Highest Marks Frequncy\n",
    "def highestMarksFrequency(filepath):\n",
    "    markslist = readMarkslist(filepath)\n",
    "    return markslist.count(max(markslist)),max(markslist)\n",
    "filepath ='DataFiles/marks.txt'\n",
    "highestMarksFrequency(filepath)"
   ]
  },
  {
   "cell_type": "code",
   "execution_count": 27,
   "metadata": {},
   "outputs": [
    {
     "data": {
      "text/plain": [
       "[2, 0]"
      ]
     },
     "execution_count": 27,
     "metadata": {},
     "output_type": "execute_result"
    }
   ],
   "source": [
    "# Lowest Marks Frequency\n",
    "def lowestMarksFrequency(filepath):\n",
    "    markslist = readMarkslist(filepath)\n",
    "    return [markslist.count(min(markslist)),min(markslist)]\n",
    "filepath ='DataFiles/marks.txt'\n",
    "lowestMarksFrequency(filepath)"
   ]
  },
  {
   "cell_type": "markdown",
   "metadata": {},
   "source": [
    "### Data Encryption\n",
    "key - Mapping of characters with replaced character\n",
    "This is key based encryption\n",
    "0 - > 4\n",
    "1 - > 5\n",
    "2 - > 6\n",
    "3 - > 7\n",
    "4 - > 8\n",
    "5 - > 9\n",
    "6 - > 0\n",
    "7 - > 1\n",
    "8 - > 2\n",
    "9 - > 3\n",
    "\n"
   ]
  },
  {
   "cell_type": "code",
   "execution_count": 30,
   "metadata": {},
   "outputs": [
    {
     "name": "stdout",
     "output_type": "stream",
     "text": [
      "Data Keys are generated\n"
     ]
    }
   ],
   "source": [
    "# Function to generate key for encryption\n",
    "keypath = 'DataFiles/key.txt'\n",
    "\n",
    "def generateKey(keypath):\n",
    "    with open(keypath,'w') as f:\n",
    "        for i in range(0,10):\n",
    "            if i < 6:\n",
    "                f.write(str(i)+' '+str(i+4)+'\\n')\n",
    "            else:\n",
    "                f.write(str(i)+' '+str(i-6)+'\\n')\n",
    "        print(\"Data Keys are generated\")\n",
    "generateKey(keypath)\n",
    "    "
   ]
  },
  {
   "cell_type": "code",
   "execution_count": 2,
   "metadata": {},
   "outputs": [],
   "source": [
    "# Function to encrypt a data file\n",
    "keypath = 'DataFiles/key.txt'\n",
    "def dictionaryKeyFile(keypath):\n",
    "    keydict = {}\n",
    "    with open(keypath,'r') as f:\n",
    "        for line in f:\n",
    "            line = line.split()\n",
    "            keydict[line[0]] = line[1]\n",
    "    return keydict\n",
    "        \n",
    "def encyptMarksData(filepath,keypath):\n",
    "    #construct a dictionary for key data\n",
    "    key = dictionaryKeyFile(keypath)\n",
    "    with open(filepath,'r') as f:\n",
    "        fileData = f.read().split('\\n')\n",
    "    with open('DataFiles/encryptedfile.txt','w') as f:\n",
    "        for mark in fileData:\n",
    "            line = ''\n",
    "            for n in mark:\n",
    "                line += key[n]\n",
    "            f.write(line+'\\n')\n",
    "filepath = 'DataFiles/marks.txt'\n",
    "encyptMarksData(filepath,keypath)\n",
    "                \n",
    "                \n",
    "            \n",
    "        \n",
    "    "
   ]
  },
  {
   "cell_type": "code",
   "execution_count": 4,
   "metadata": {},
   "outputs": [],
   "source": [
    "keypath = 'DataFiles/key.txt'\n",
    "def dictionaryKeyFile(keypath):\n",
    "    keydict = {}\n",
    "    with open(keypath,'r') as f:\n",
    "        for line in f:\n",
    "            line = line.split()\n",
    "            keydict[line[1]] = line[0]\n",
    "    return keydict"
   ]
  },
  {
   "cell_type": "code",
   "execution_count": 14,
   "metadata": {},
   "outputs": [
    {
     "name": "stdout",
     "output_type": "stream",
     "text": [
      "0.0540551760004746\n"
     ]
    }
   ],
   "source": [
    "def decryptMarksData(filepath,keypath):\n",
    "    with open(filepath,'r') as f:\n",
    "        key = dictionaryKeyFile(keypath)\n",
    "        fileData = f.read().split('\\n')\n",
    "    with open('DataFiles/dycryptedfile.txt','w') as f:\n",
    "         for mark in fileData:\n",
    "            line = ''\n",
    "            for n in mark:\n",
    "                line += key[n]\n",
    "            f.write(line+'\\n')\n",
    "filepath = 'DataFiles/encryptedfile.txt'\n",
    "keypath = 'DataFiles/key.txt'\n",
    "import timeit\n",
    "st = timeit.default_timer()\n",
    "decryptMarksData(filepath,keypath)\n",
    "print(timeit.default_timer()-st)\n",
    "        "
   ]
  },
  {
   "cell_type": "code",
   "execution_count": 10,
   "metadata": {},
   "outputs": [
    {
     "data": {
      "text/plain": [
       "{'0': '4',\n",
       " '1': '5',\n",
       " '2': '6',\n",
       " '3': '7',\n",
       " '4': '8',\n",
       " '5': '9',\n",
       " '6': '0',\n",
       " '7': '1',\n",
       " '8': '2',\n",
       " '9': '3'}"
      ]
     },
     "execution_count": 10,
     "metadata": {},
     "output_type": "execute_result"
    }
   ],
   "source": [
    "def dictionary_key_File(keypath):\n",
    "    keydict = {}\n",
    "    with open(keypath,'r') as f:\n",
    "        for line in f:\n",
    "            line = line.split()\n",
    "            keydict[line[0]] = line[1]\n",
    "    return keydict\n",
    "keypath = 'DataFiles/key.txt'\n",
    "dictionary_key_File(keypath)"
   ]
  },
  {
   "cell_type": "code",
   "execution_count": 13,
   "metadata": {},
   "outputs": [
    {
     "data": {
      "text/plain": [
       "{('0', '4'), ('2', '6'), ('4', '8'), ('6', '0'), ('8', '2')}"
      ]
     },
     "execution_count": 13,
     "metadata": {},
     "output_type": "execute_result"
    }
   ],
   "source": [
    "# Comprehensions\n",
    "keypath = 'DataFiles/key.txt'\n",
    "key = dictionary_key_File(keypath)\n",
    "evenkeys = {item for item in key.items() if int(item[0])%2 == 0}\n",
    "evenkeys"
   ]
  },
  {
   "cell_type": "code",
   "execution_count": null,
   "metadata": {},
   "outputs": [],
   "source": []
  },
  {
   "cell_type": "markdown",
   "metadata": {},
   "source": [
    "Key Words in Python\n",
    "    - False\tclass\tfinally\tis\treturn\n",
    "    - None\tcontinue\tfor\tlambda\ttry\n",
    "    - True\tdef\tfrom\tnonlocal\twhile\n",
    "    - and\tdel\tglobal\tnot\twith\n",
    "    - as\telif\tif\tor\tyield\n",
    "    - assert\telse\timport\tpass\t \n",
    "    - break\texcept\tin\traise\t "
   ]
  },
  {
   "cell_type": "markdown",
   "metadata": {},
   "source": [
    "### Built in Functions\n",
    "\n",
    "           Method\t   Description\n",
    "    Python abs()\treturns absolute value of a number\n",
    "    Python all()\treturns true when all elements in iterable is true\n",
    "    Python any()\tChecks if any Element of an Iterable is True\n",
    "    Python ascii()\tReturns String Containing Printable Representation\n",
    "    Python bin()\tconverts integer to binary string\n",
    "    Python bool()\tConverts a Value to Boolean\n",
    "    Python bytearray()\treturns array of given byte size\n",
    "    Python bytes()\treturns immutable bytes object\n",
    "    Python callable()\tChecks if the Object is Callable\n",
    "    Python chr()\tReturns a Character (a string) from an Integer\n",
    "    Python classmethod()\treturns class method for given function\n",
    "    Python compile()\tReturns a Python code object\n",
    "    Python complex()\tCreates a Complex Number\n",
    "    Python delattr()\tDeletes Attribute From the Object\n",
    "    Python dict()\tCreates a Dictionary\n",
    "    Python dir()\tTries to Return Attributes of Object\n",
    "    Python divmod()\tReturns a Tuple of Quotient and Remainder\n",
    "    Python enumerate()\tReturns an Enumerate Object\n",
    "    Python eval()\tRuns Python Code Within Program\n",
    "    Python exec()\tExecutes Dynamically Created Program\n",
    "    Python filter()\tconstructs iterator from elements which are true\n",
    "    Python float()\treturns floating point number from number, string\n",
    "    Python format()\treturns formatted representation of a value\n",
    "    Python frozenset()\treturns immutable frozenset object\n",
    "    Python getattr()\treturns value of named attribute of an object\n",
    "    Python globals()\treturns dictionary of current global symbol table\n",
    "    Python hasattr()\treturns whether object has named attribute\n",
    "    Python hash()\treturns hash value of an object\n",
    "    Python help()\tInvokes the built-in Help System\n",
    "    Python hex()\tConverts to Integer to Hexadecimal\n",
    "    Python id()\tReturns Identify of an Object\n",
    "    Python input()\treads and returns a line of string\n",
    "    Python int()\treturns integer from a number or string\n",
    "    Python isinstance()\tChecks if a Object is an Instance of Class\n",
    "    Python issubclass()\tChecks if a Object is Subclass of a Class\n",
    "    Python iter()\treturns iterator for an object\n",
    "    Python len()\tReturns Length of an Object\n",
    "    Python list() Function\tcreates list in Python\n",
    "    Python locals()\tReturns dictionary of a current local symbol table\n",
    "    Python map()\tApplies Function and Returns a List\n",
    "    Python max()\treturns largest element\n",
    "    Python memoryview()\treturns memory view of an argument\n",
    "    Python min()\treturns smallest element\n",
    "    Python next()\tRetrieves Next Element from Iterator\n",
    "    Python object()\tCreates a Featureless Object\n",
    "    Python oct()\tconverts integer to octal\n",
    "    Python open()\tReturns a File object\n",
    "    Python ord()\treturns Unicode code point for Unicode character\n",
    "    Python pow()\treturns x to the power of y\n",
    "    Python print()\tPrints the Given Object\n",
    "    Python property()\treturns a property attribute\n",
    "    Python range()\treturn sequence of integers between start and stop\n",
    "    Python repr()\treturns printable representation of an object\n",
    "    Python reversed()\treturns reversed iterator of a sequence\n",
    "    Python round()\trounds a floating point number to ndigits places.\n",
    "    Python set()\treturns a Python set\n",
    "    Python setattr()\tsets value of an attribute of object\n",
    "    Python slice()\tcreates a slice object specified by range()\n",
    "    Python sorted()\treturns sorted list from a given iterable\n",
    "    Python staticmethod()\tcreates static method from a function\n",
    "    Python str()\treturns informal representation of an object\n",
    "    Python sum()\tAdd items of an Iterable\n",
    "    Python super()\tAllow you to Refer Parent Class by super\n",
    "    Python tuple() Function\tCreates a Tuple\n",
    "    Python type()\tReturns Type of an Object\n",
    "    Python vars()\tReturns __dict__ attribute of a class\n",
    "    Python zip()\tReturns an Iterator of Tuples\n",
    "    Python __import__()\tAdvanced Function Called by import"
   ]
  },
  {
   "cell_type": "code",
   "execution_count": 16,
   "metadata": {},
   "outputs": [
    {
     "name": "stdout",
     "output_type": "stream",
     "text": [
      "2\n",
      "None\n"
     ]
    }
   ],
   "source": [
    "def sortUrl(li):\n",
    "    unique = {}\n",
    "    for i in li:\n",
    "        if i not in unique:\n",
    "            unique[i] = 1\n",
    "        else:\n",
    "            unique[i]+=1\n",
    "    maxfreq = max(list(unique.values()))\n",
    "    print(maxfreq)\n",
    "    uniquefreqKeys = []\n",
    "    for key in unique.items():\n",
    "        if key not in uniquefreqKeys:\n",
    "            key[1] == maxfreq\n",
    "            uniquefreqKeys.append(key[0])\n",
    "    sorturl = uniquefreqKeys.sort()\n",
    "    print(sorturl)\n",
    "    \n",
    "    \n",
    "# t = int(input())\n",
    "# li = []\n",
    "# for n in range(t):\n",
    "#     url = input()\n",
    "#     li.append(url)\n",
    "li = ['www.google.com','www.facebook.com','www.google.com','www.twitter.com','www.twitter.com']\n",
    "sortUrl(li)"
   ]
  },
  {
   "cell_type": "code",
   "execution_count": null,
   "metadata": {},
   "outputs": [],
   "source": []
  }
 ],
 "metadata": {
  "kernelspec": {
   "display_name": "Python 3",
   "language": "python",
   "name": "python3"
  },
  "language_info": {
   "codemirror_mode": {
    "name": "ipython",
    "version": 3
   },
   "file_extension": ".py",
   "mimetype": "text/x-python",
   "name": "python",
   "nbconvert_exporter": "python",
   "pygments_lexer": "ipython3",
   "version": "3.7.3"
  }
 },
 "nbformat": 4,
 "nbformat_minor": 2
}
