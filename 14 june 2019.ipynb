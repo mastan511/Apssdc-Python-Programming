{
 "cells": [
  {
   "cell_type": "markdown",
   "metadata": {},
   "source": [
    "### Problem solving and Programming in Python June 2019\n",
    "\n",
    "### Date 14 June 2019\n",
    "\n",
    "### Day Objectives\n",
    "- Python Data Structures\n",
    "    - Lists\n",
    "    - Tuples\n",
    "- Dictionaries\n",
    "- Basic Problem set on Data Structures\n",
    "- Advanced Problem set"
   ]
  },
  {
   "cell_type": "markdown",
   "metadata": {},
   "source": [
    "### Python Data Structures\n",
    "\n",
    "###  Lists"
   ]
  },
  {
   "cell_type": "code",
   "execution_count": 48,
   "metadata": {},
   "outputs": [
    {
     "data": {
      "text/plain": [
       "[123, 345, 654, 234, 456, 789]"
      ]
     },
     "execution_count": 48,
     "metadata": {},
     "output_type": "execute_result"
    }
   ],
   "source": [
    "li = [123,978,654]\n",
    "li #Access the entire list\n",
    "li[1]# Accessing an elemnt with index in a list\n",
    "li[1:]# Access all element from second element to end element\n",
    "li = li[::-1]\n",
    "li\n",
    "li = li[::-1]\n",
    "li[::2]#Accessing even index elements\n",
    "li[1::2]\n",
    "# If you want to add the elements to the lis we are having a two ways\n",
    "        #Direct Referencing---->[index]\n",
    "        #Indirectbreferencing-->through functions\n",
    "li.append(345)#  Adding an element to end of the list\n",
    "# Adding an element at a particular index\n",
    "li.insert(1,234)\n",
    "li.sort() # Sort elements in ascending order\n",
    "li.pop() # Remove the last element in a list\n",
    "li.pop(1)#remove an element at particular index in a list\n",
    "\n",
    "\n",
    "li2 = [234,456,789]\n",
    "li.extend(li2)# Merge list2 into list1\n",
    "sum(li)# Sum of all elements in alist\n",
    "max(li)# Maximum element in the list\n",
    "len(li)# Number of elements in a list\n",
    "\n",
    "# Average of list elements\n",
    "sum(li)/len(li)\n",
    "# Average of all alternative elements\n",
    "sum(li[1::2])/len(li[1::2])\n",
    "min(li)\n",
    "li.index(234)\n",
    "li"
   ]
  },
  {
   "cell_type": "code",
   "execution_count": 36,
   "metadata": {},
   "outputs": [
    {
     "data": {
      "text/plain": [
       "123"
      ]
     },
     "execution_count": 36,
     "metadata": {},
     "output_type": "execute_result"
    }
   ],
   "source": [
    "# Function to identify the second largest element in a unique list(no duplicates)\n",
    "# Sort the data and select the second last element\n",
    "# sort the data in reverse order , and select the second element\n",
    "def secondLargest(li):\n",
    "    li.sort()\n",
    "    return li[-2] \n",
    "    \n",
    "    \n",
    "# Function that returns the nth largest\n",
    "def genericLargest(li,n):\n",
    "    li.sort()\n",
    "    return li[-n]\n",
    "secondLargest(li)\n",
    "genericLargest(li,6)"
   ]
  },
  {
   "cell_type": "code",
   "execution_count": 50,
   "metadata": {},
   "outputs": [
    {
     "data": {
      "text/plain": [
       "-1"
      ]
     },
     "execution_count": 50,
     "metadata": {},
     "output_type": "execute_result"
    }
   ],
   "source": [
    "# Function to search for data in a list\n",
    "# Search for key in the list return the index of the key.return -1 if key not found\n",
    "def linearsearch(li,key):\n",
    "    if key in li:\n",
    "        for i in range(0,len(li)):\n",
    "            if key == li[i]:\n",
    "                return i\n",
    "        return 1\n",
    "    else:\n",
    "        return -1\n",
    "def linaersearch2(li,key):\n",
    "    for element in li:\n",
    "        if element==key:\n",
    "            return li.index(element)\n",
    "    return -1\n",
    "\n",
    "def linearSearch3(li,key):\n",
    "    if key in li:\n",
    "        return li.index(key)\n",
    "    return -1\n",
    "#linaersearch2(li,654)\n",
    "#linearsearch(li,654)    \n",
    "linearSearch3(li,1000)"
   ]
  },
  {
   "cell_type": "code",
   "execution_count": 60,
   "metadata": {},
   "outputs": [
    {
     "data": {
      "text/plain": [
       "1"
      ]
     },
     "execution_count": 60,
     "metadata": {},
     "output_type": "execute_result"
    }
   ],
   "source": [
    "# Function to count the occurances of a carachter  in a string \n",
    "#\"Python Programming\"\n",
    "def findingRepeatedValues(s,key):\n",
    "    count=0\n",
    "    for i in range(0,len(s)):\n",
    "        if s[i] == key:\n",
    "            count+=1\n",
    "    return count\n",
    "def countCharOccurances2(s,c):\n",
    "    return s.count(c)\n",
    "\n",
    "countCharOccurances2(\"Python Programming\",'Py')\n",
    "#findingRepeatedValues(\"Python Programming\",'Py')       \n",
    "\n",
    "\n",
    "\n"
   ]
  },
  {
   "cell_type": "code",
   "execution_count": 62,
   "metadata": {},
   "outputs": [
    {
     "data": {
      "text/plain": [
       "11"
      ]
     },
     "execution_count": 62,
     "metadata": {},
     "output_type": "execute_result"
    }
   ],
   "source": [
    "# Function to find the number of occurances of a substring\n",
    "#\"abscdabcd\"====>\"ab\"---->2\n",
    "def occurancesOfSubstring(s,subs):\n",
    "    count=0\n",
    "    for subs in s:\n",
    "        count+=1\n",
    "    return count\n",
    "occurancesOfSubstring(\"mastan Vali\",\"Vali\")"
   ]
  },
  {
   "cell_type": "code",
   "execution_count": 71,
   "metadata": {},
   "outputs": [
    {
     "data": {
      "text/plain": [
       "[1, 2, 3, 4, 5, 6, 7, 8, 9]"
      ]
     },
     "execution_count": 71,
     "metadata": {},
     "output_type": "execute_result"
    }
   ],
   "source": [
    "s=\"1 2 3 4 5 6 7 8 9\"\n",
    "li=s.split()\n",
    "numberslistr=[]\n",
    "for i in li:\n",
    "    numberslistr.append(int(i))\n",
    "numberslistr"
   ]
  },
  {
   "cell_type": "code",
   "execution_count": 79,
   "metadata": {},
   "outputs": [
    {
     "name": "stdout",
     "output_type": "stream",
     "text": [
      "3\n"
     ]
    },
    {
     "data": {
      "text/plain": [
       "14"
      ]
     },
     "execution_count": 79,
     "metadata": {},
     "output_type": "execute_result"
    }
   ],
   "source": [
    "n=int(input())\n",
    "def sumofSquare(n):\n",
    "    sum=0\n",
    "    for i in range(1,n+1):\n",
    "        sum+=i**2\n",
    "    return sum\n",
    "sumofSquare(n)\n"
   ]
  },
  {
   "cell_type": "markdown",
   "metadata": {},
   "source": [
    "###  Problem ColsestZero\n",
    "\n",
    "### Explanation\n",
    "- li = [3,2,-1,-2,-3](Orginal List)\n",
    "- Sort the Data\n",
    "- li = [-3,-2,-1,2,3](Sorted List)\n",
    "- pl = [1,2,2,3,3](Positive sorted List)\n",
    "- pl[0] -> check if this number is -ve or +ve in the orginal list\n",
    "- if pl[0] in li:\n",
    "    - return pl[0]\n",
    "- else:\n",
    "    - return -(pl[0])\n"
   ]
  },
  {
   "cell_type": "code",
   "execution_count": 84,
   "metadata": {},
   "outputs": [
    {
     "name": "stdout",
     "output_type": "stream",
     "text": [
      "5\n",
      "0 1 2 3 4 \n"
     ]
    },
    {
     "data": {
      "text/plain": [
       "0"
      ]
     },
     "execution_count": 84,
     "metadata": {},
     "output_type": "execute_result"
    }
   ],
   "source": [
    "n = int(input())\n",
    "s = input()\n",
    "# \"1 2 3 4 5\"\n",
    "li = []\n",
    "for i in s.split():\n",
    "    li.append(int(i))\n",
    "def cosestZero(li):\n",
    "    # Seperate all numbers less than zero and take max\n",
    "    # All numbers greater than=zero ,get the minimum\n",
    "    #-1 2 5 -10 -20\n",
    "    # -1 -10 -20 ->-1\n",
    "    #2 5 ->2\n",
    "    #-1 2->\n",
    "min(li)\n",
    "    "
   ]
  },
  {
   "cell_type": "code",
   "execution_count": 7,
   "metadata": {},
   "outputs": [
    {
     "name": "stdout",
     "output_type": "stream",
     "text": [
      "1\n"
     ]
    }
   ],
   "source": [
    "# Closest Zero Problem simple solution\n",
    "li = [-1,-2,2,3,1]\n",
    "li.sort()\n",
    "pl = []\n",
    "for i in li:\n",
    "    pl.append(abs(i))\n",
    "pl.sort()\n",
    "if pl[0] in li:\n",
    "    print(pl[0])\n",
    "else:\n",
    "    print(-pl[0])"
   ]
  },
  {
   "cell_type": "code",
   "execution_count": 11,
   "metadata": {},
   "outputs": [
    {
     "name": "stdout",
     "output_type": "stream",
     "text": [
      "-100\n"
     ]
    }
   ],
   "source": [
    "# FarthestFromZero\n",
    "li = [-1,-2,2,3,1,-100]\n",
    "li.sort()\n",
    "pl = []\n",
    "for i in li:\n",
    "    pl.append(abs(i))\n",
    "pl.sort()\n",
    "if pl[-1] in li:\n",
    "    print(pl[-1])\n",
    "else:\n",
    "    print(-pl[-1])"
   ]
  },
  {
   "cell_type": "markdown",
   "metadata": {},
   "source": [
    "You are given three numbers a,b, and c.write program to find the largest number which is less than \n",
    "or equal to c and leaves remainder b when devided by a.\n",
    "3 2 9====>8\n",
    "9%3 == 0\n",
    "8%3 == 2"
   ]
  },
  {
   "cell_type": "code",
   "execution_count": 24,
   "metadata": {},
   "outputs": [
    {
     "data": {
      "text/plain": [
       "8"
      ]
     },
     "execution_count": 24,
     "metadata": {},
     "output_type": "execute_result"
    }
   ],
   "source": [
    "def findingLargest(a,b,c):\n",
    "    for i in range(c,a-1,-1):\n",
    "        if i%a == b:\n",
    "            return i\n",
    "    return -1\n",
    "findingLargest(3,2,9)"
   ]
  },
  {
   "cell_type": "code",
   "execution_count": 26,
   "metadata": {},
   "outputs": [
    {
     "name": "stdout",
     "output_type": "stream",
     "text": [
      "6\n",
      "5\n",
      "4\n",
      "3\n",
      "2\n",
      "1\n"
     ]
    }
   ],
   "source": [
    "s='123456'\n",
    "for i in range(6,1-1,-1):\n",
    "    print(i)"
   ]
  },
  {
   "cell_type": "code",
   "execution_count": 28,
   "metadata": {},
   "outputs": [
    {
     "name": "stdout",
     "output_type": "stream",
     "text": [
      "MastanVali\n"
     ]
    },
    {
     "ename": "AttributeError",
     "evalue": "'int' object has no attribute 'upper'",
     "output_type": "error",
     "traceback": [
      "\u001b[1;31m---------------------------------------------------------------------------\u001b[0m",
      "\u001b[1;31mAttributeError\u001b[0m                            Traceback (most recent call last)",
      "\u001b[1;32m<ipython-input-28-22171f665263>\u001b[0m in \u001b[0;36m<module>\u001b[1;34m\u001b[0m\n\u001b[0;32m      1\u001b[0m \u001b[0ms\u001b[0m\u001b[1;33m=\u001b[0m\u001b[0minput\u001b[0m\u001b[1;33m(\u001b[0m\u001b[1;33m)\u001b[0m\u001b[1;33m\u001b[0m\u001b[1;33m\u001b[0m\u001b[0m\n\u001b[0;32m      2\u001b[0m \u001b[1;32mfor\u001b[0m \u001b[0mch\u001b[0m \u001b[1;32min\u001b[0m \u001b[0mrange\u001b[0m\u001b[1;33m(\u001b[0m\u001b[1;36m0\u001b[0m\u001b[1;33m,\u001b[0m\u001b[0mlen\u001b[0m\u001b[1;33m(\u001b[0m\u001b[0ms\u001b[0m\u001b[1;33m)\u001b[0m\u001b[1;33m)\u001b[0m\u001b[1;33m:\u001b[0m\u001b[1;33m\u001b[0m\u001b[1;33m\u001b[0m\u001b[0m\n\u001b[1;32m----> 3\u001b[1;33m     \u001b[1;32mif\u001b[0m \u001b[0mch\u001b[0m\u001b[1;33m.\u001b[0m\u001b[0mupper\u001b[0m\u001b[1;33m(\u001b[0m\u001b[1;33m)\u001b[0m\u001b[1;33m:\u001b[0m\u001b[1;33m\u001b[0m\u001b[1;33m\u001b[0m\u001b[0m\n\u001b[0m\u001b[0;32m      4\u001b[0m         \u001b[0mch\u001b[0m\u001b[1;33m.\u001b[0m\u001b[0mlower\u001b[0m\u001b[1;33m(\u001b[0m\u001b[1;33m)\u001b[0m\u001b[1;33m\u001b[0m\u001b[1;33m\u001b[0m\u001b[0m\n\u001b[0;32m      5\u001b[0m     \u001b[1;32melse\u001b[0m\u001b[1;33m:\u001b[0m\u001b[1;33m\u001b[0m\u001b[1;33m\u001b[0m\u001b[0m\n",
      "\u001b[1;31mAttributeError\u001b[0m: 'int' object has no attribute 'upper'"
     ]
    }
   ],
   "source": [
    "s=input()\n",
    "for ch in range(0,len(s)):\n",
    "    if ch.upper():\n",
    "        ch.lower()\n",
    "    else:\n",
    "        ch.upper()\n",
    "s"
   ]
  },
  {
   "cell_type": "code",
   "execution_count": null,
   "metadata": {},
   "outputs": [],
   "source": []
  }
 ],
 "metadata": {
  "kernelspec": {
   "display_name": "Python 3",
   "language": "python",
   "name": "python3"
  },
  "language_info": {
   "codemirror_mode": {
    "name": "ipython",
    "version": 3
   },
   "file_extension": ".py",
   "mimetype": "text/x-python",
   "name": "python",
   "nbconvert_exporter": "python",
   "pygments_lexer": "ipython3",
   "version": "3.7.3"
  }
 },
 "nbformat": 4,
 "nbformat_minor": 2
}
