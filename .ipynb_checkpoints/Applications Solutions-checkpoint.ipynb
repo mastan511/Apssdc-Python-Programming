{
 "cells": [
  {
   "cell_type": "markdown",
   "metadata": {},
   "source": [
    "### Marks Analysis Report\n",
    "- Generate Marks\n",
    "    - generateMarks(n, lb, ub)\n",
    "- Generate a report of the following\n",
    "    - Class Average - classAverage(filepath)\n",
    "    - % Passed - passPercentage(filepath)\n",
    "    - % Failed - failPercentage(filepath)\n",
    "    - % Distinction - distinctionPercentage(filepath)\n",
    "    - Frequency of Highest mark - frequencyHighest(filepath)\n",
    "    - Frequency of lowest mark - frequencyLowest(filepath)\n",
    "    - GenerateReport(filepath):"
   ]
  },
  {
   "cell_type": "code",
   "execution_count": 3,
   "metadata": {},
   "outputs": [],
   "source": [
    "from random import randint\n",
    "def generateMarks(n, lb, ub):\n",
    "    with open('DataFiles/marks.txt','w') as f:\n",
    "        for i in range(0,n):\n",
    "            r = randint(lb,ub)\n",
    "            f.write(str(r)+'\\n')\n",
    "    print(\"%d members students marks has generated \",n)\n",
    "        return\n"
   ]
  },
  {
   "cell_type": "markdown",
   "metadata": {},
   "source": [
    "### Reports"
   ]
  },
  {
   "cell_type": "markdown",
   "metadata": {},
   "source": [
    "### Class Average"
   ]
  },
  {
   "cell_type": "code",
   "execution_count": 15,
   "metadata": {},
   "outputs": [
    {
     "data": {
      "text/plain": [
       "524"
      ]
     },
     "execution_count": 15,
     "metadata": {},
     "output_type": "execute_result"
    }
   ],
   "source": [
    "def classAverage(filepath):\n",
    "    avg = 0\n",
    "    sum = 0\n",
    "    with open(filepath,'r') as f:\n",
    "        fileData = f.read().split()\n",
    "        for i in range(0,len(fileData)):\n",
    "            sum+=int(fileData[i])\n",
    "        return sum\n",
    "        avg = sum//len(fileData)\n",
    "        print(avg)\n",
    "\n",
    "        \n",
    "    \n",
    "    "
   ]
  },
  {
   "cell_type": "markdown",
   "metadata": {},
   "source": [
    "### Pass Percentage"
   ]
  },
  {
   "cell_type": "code",
   "execution_count": 29,
   "metadata": {},
   "outputs": [
    {
     "name": "stdout",
     "output_type": "stream",
     "text": [
      "passed Students Marks list:  ['86', '89', '36', '63', '79', '98']\n",
      "Passed Students Percentage is : 60.0\n"
     ]
    }
   ],
   "source": [
    "def passPercentage(filepath):\n",
    "    passedlist = []\n",
    "    with open(filepath,'r') as f:\n",
    "        fileData = f.read().split()\n",
    "        for i in range(0,len(fileData)):\n",
    "            if int(fileData[i]) >= 35:\n",
    "                passedlist.append(fileData[i])\n",
    "        passPercentage = (len(passedlist)/len(fileData))*100\n",
    "        print(\"passed Students Marks list: \",passedlist)\n",
    "        print(\"Passed Students Percentage is :\",passPercentage)\n",
    "                "
   ]
  },
  {
   "cell_type": "markdown",
   "metadata": {},
   "source": [
    "### FailedPercentage"
   ]
  },
  {
   "cell_type": "code",
   "execution_count": 32,
   "metadata": {},
   "outputs": [
    {
     "name": "stdout",
     "output_type": "stream",
     "text": [
      "Failed Students Marks list:  ['10', '19', '22', '22']\n",
      "Failed Students Percentage is : 40.0\n"
     ]
    }
   ],
   "source": [
    "def failedPercentage(filepath):\n",
    "    failedList = []\n",
    "    with open(filepath,'r') as f:\n",
    "        fileData = f.read().split()\n",
    "        for i in range(0,len(fileData)):\n",
    "            if int(fileData[i]) < 35:\n",
    "                failedList.append(fileData[i])\n",
    "        failPercentage = (len(failedList)/len(fileData))*100\n",
    "        print(\"Failed Students Marks list: \",failedList)\n",
    "        print(\"Failed Students Percentage is :\",failPercentage)"
   ]
  },
  {
   "cell_type": "markdown",
   "metadata": {},
   "source": [
    "### Distinction Students Percentage"
   ]
  },
  {
   "cell_type": "code",
   "execution_count": 34,
   "metadata": {},
   "outputs": [
    {
     "name": "stdout",
     "output_type": "stream",
     "text": [
      "Distinction Passed Students List  ['86', '89', '79', '98']\n",
      "Distinction passed Students Percentage is  40.0\n"
     ]
    }
   ],
   "source": [
    "def distinctionPercentage(filepath):\n",
    "    distinctionPasslist = []\n",
    "    with open(filepath,'r') as f:\n",
    "        fileData = f.read().split()\n",
    "        for i in range(0,len(fileData)):\n",
    "            if int(fileData[i]) >= 75:\n",
    "                distinctionPasslist.append(fileData[i])\n",
    "        distinctionPercentage = (len(distinctionPasslist)/len(fileData))*100\n",
    "        print(\"Distinction Passed Students List \",distinctionPasslist)\n",
    "        print(\"Distinction passed Students Percentage is \",distinctionPercentage)\n",
    "\n",
    "\n",
    "        "
   ]
  },
  {
   "cell_type": "markdown",
   "metadata": {},
   "source": [
    "### Frequency Of Highest Marks"
   ]
  },
  {
   "cell_type": "code",
   "execution_count": 46,
   "metadata": {},
   "outputs": [
    {
     "name": "stdout",
     "output_type": "stream",
     "text": [
      "Maximum Marks =  98\n",
      "Maximum Marks Frequency is  1\n"
     ]
    }
   ],
   "source": [
    "def frequencyHighest(filepath):\n",
    "    with open(filepath,'r') as f:\n",
    "        fileData = f.read().split()\n",
    "        highestMarks = max(fileData)\n",
    "        c = fileData.count(highestMarks)\n",
    "#         for i in range(0,len(fileData)):\n",
    "#             if int(fileData[i]) == highestMarks:\n",
    "#                 count+=1\n",
    "        print(\"Maximum Marks = \",highestMarks)\n",
    "        print(\"Maximum Marks Frequency is \",c)\n"
   ]
  },
  {
   "cell_type": "markdown",
   "metadata": {},
   "source": [
    "### Frequency of lowest Marks"
   ]
  },
  {
   "cell_type": "code",
   "execution_count": 47,
   "metadata": {},
   "outputs": [
    {
     "name": "stdout",
     "output_type": "stream",
     "text": [
      "Lowest Marks =  10\n",
      "Lowest Marks Frequency is  1\n"
     ]
    }
   ],
   "source": [
    "def frequencyLowest(filepath):\n",
    "    with open(filepath,'r') as f:\n",
    "        fileData = f.read().split()\n",
    "        lowestMarks = min(fileData)\n",
    "        c = fileData.count(lowestMarks)\n",
    "    print(\"Lowest Marks = \",lowestMarks)\n",
    "    print(\"Lowest Marks Frequency is \",c)\n",
    "filepath = 'DataFiles/marks.txt'\n",
    "frequencyLowest(filepath)\n",
    "    "
   ]
  },
  {
   "cell_type": "markdown",
   "metadata": {},
   "source": [
    "### Generate Report"
   ]
  },
  {
   "cell_type": "code",
   "execution_count": 48,
   "metadata": {},
   "outputs": [
    {
     "name": "stdout",
     "output_type": "stream",
     "text": [
      "Choose the option : \n",
      " 1.Generation of Marks \n",
      " 2.Class Average \n",
      " 3.Pass Percentage \n",
      " 4.Fail Percentage \n",
      " 5.Distinction Percentage \n",
      " 6.Frequency of Highest Marks \n",
      " 7.Frequency of Lowest Marks \n",
      "  1\n",
      "Enter Students Count 50\n",
      "Choose the option : \n",
      " 1.Generation of Marks \n",
      " 2.Class Average \n",
      " 3.Pass Percentage \n",
      " 4.Fail Percentage \n",
      " 5.Distinction Percentage \n",
      " 6.Frequency of Highest Marks \n",
      " 7.Frequency of Lowest Marks \n",
      "  2\n",
      "Choose the option : \n",
      " 1.Generation of Marks \n",
      " 2.Class Average \n",
      " 3.Pass Percentage \n",
      " 4.Fail Percentage \n",
      " 5.Distinction Percentage \n",
      " 6.Frequency of Highest Marks \n",
      " 7.Frequency of Lowest Marks \n",
      "  3\n",
      "passed Students Marks list:  ['35', '45', '97', '61', '64', '62', '76', '92', '46', '58', '77', '36', '73', '79', '58', '97', '53', '58', '63', '64', '40', '85', '81', '40', '36', '65', '55', '85', '88', '74', '48', '36', '93', '89', '92']\n",
      "Passed Students Percentage is : 70.0\n",
      "Choose the option : \n",
      " 1.Generation of Marks \n",
      " 2.Class Average \n",
      " 3.Pass Percentage \n",
      " 4.Fail Percentage \n",
      " 5.Distinction Percentage \n",
      " 6.Frequency of Highest Marks \n",
      " 7.Frequency of Lowest Marks \n",
      "  4\n",
      "Failed Students Marks list:  ['20', '13', '29', '20', '32', '0', '21', '34', '22', '16', '14', '12', '26', '29', '12']\n",
      "Failed Students Percentage is : 30.0\n",
      "Choose the option : \n",
      " 1.Generation of Marks \n",
      " 2.Class Average \n",
      " 3.Pass Percentage \n",
      " 4.Fail Percentage \n",
      " 5.Distinction Percentage \n",
      " 6.Frequency of Highest Marks \n",
      " 7.Frequency of Lowest Marks \n",
      "  5\n",
      "Distinction Passed Students List  ['97', '76', '92', '77', '79', '97', '85', '81', '85', '88', '93', '89', '92']\n",
      "Distinction passed Students Percentage is  26.0\n",
      "Choose the option : \n",
      " 1.Generation of Marks \n",
      " 2.Class Average \n",
      " 3.Pass Percentage \n",
      " 4.Fail Percentage \n",
      " 5.Distinction Percentage \n",
      " 6.Frequency of Highest Marks \n",
      " 7.Frequency of Lowest Marks \n",
      "  6\n",
      "Maximum Marks =  97\n",
      "Maximum Marks Frequency is  2\n",
      "Choose the option : \n",
      " 1.Generation of Marks \n",
      " 2.Class Average \n",
      " 3.Pass Percentage \n",
      " 4.Fail Percentage \n",
      " 5.Distinction Percentage \n",
      " 6.Frequency of Highest Marks \n",
      " 7.Frequency of Lowest Marks \n",
      "  7\n",
      "Lowest Marks =  0\n",
      "Lowest Marks Frequency is  1\n",
      "Choose the option : \n",
      " 1.Generation of Marks \n",
      " 2.Class Average \n",
      " 3.Pass Percentage \n",
      " 4.Fail Percentage \n",
      " 5.Distinction Percentage \n",
      " 6.Frequency of Highest Marks \n",
      " 7.Frequency of Lowest Marks \n",
      "  8\n"
     ]
    }
   ],
   "source": [
    "def generateReport(filepath):\n",
    "    while True:\n",
    "        n = int(input(\"Choose the option : \\n 1.Generation of Marks \\n 2.Class Average \\n 3.Pass Percentage \\n 4.Fail Percentage \\n 5.Distinction Percentage \\n 6.Frequency of Highest Marks \\n 7.Frequency of Lowest Marks \\n  \"))\n",
    "        if n == 1:\n",
    "            st = int(input(\"Enter Students Count \"))\n",
    "            generateMarks(st,0,100)\n",
    "        elif n == 2:\n",
    "            classAverage(filepath)\n",
    "        elif n == 3:\n",
    "            passPercentage(filepath)\n",
    "        elif n == 4:\n",
    "            failedPercentage(filepath)\n",
    "        elif n == 5:\n",
    "            distinctionPercentage(filepath)\n",
    "        elif n == 6:\n",
    "            frequencyHighest(filepath)\n",
    "        elif n == 7:\n",
    "            frequencyLowest(filepath)\n",
    "        else:\n",
    "            break\n",
    "filepath = 'DataFiles/marks.txt'\n",
    "generateReport(filepath)\n",
    "        "
   ]
  },
  {
   "cell_type": "markdown",
   "metadata": {},
   "source": [
    "### Contacts Application\n",
    " - addContact(name, phone, email)\n",
    " - searchContact(name)\n",
    " - listContacts()\n",
    " - editContact(name, newphone, newemail)\n",
    " - deleteContact(name)\n",
    " - contactsApp()"
   ]
  },
  {
   "cell_type": "markdown",
   "metadata": {},
   "source": [
    "### Contact Insertion"
   ]
  },
  {
   "cell_type": "code",
   "execution_count": 7,
   "metadata": {},
   "outputs": [],
   "source": [
    "# Function to check if contact already exists\n",
    "import re\n",
    "def checkContactExists(name):\n",
    "    filename = 'DataFiles/contacts.txt'\n",
    "    with open(filename,'r') as f:\n",
    "        fileData = f.read()\n",
    "        pattern = name+','\n",
    "    return re.search(pattern,fileData)"
   ]
  },
  {
   "cell_type": "code",
   "execution_count": 53,
   "metadata": {},
   "outputs": [
    {
     "name": "stdout",
     "output_type": "stream",
     "text": [
      "name2 added to contacts\n"
     ]
    }
   ],
   "source": [
    "from packages.validators import phoneNumberValidator as pnv, emailValidator as ev\n",
    "import re\n",
    "def addContact(name,phone,email):\n",
    "    #store data as  name,phone,email in the contacts file\n",
    "    filename = 'DataFiles/contacts.txt'\n",
    "    if not checkContactExists(name):\n",
    "        if pnv(phone) and ev(email):\n",
    "            with open(filename, 'a') as f:\n",
    "                line = name + ',' + str(phone) + ',' + email + '\\n'\n",
    "                f.write(line)\n",
    "            print(name, 'added to contacts')\n",
    "        else:\n",
    "            print('Invalid Phone number or Email')\n",
    "            return\n",
    "               \n",
    "    else:\n",
    "        print(name,\"already exits\")\n",
    "        return\n",
    "\n",
    "addContact(\"name2\",9502305797,\"name2_123@gmail.com\")    "
   ]
  },
  {
   "cell_type": "markdown",
   "metadata": {},
   "source": [
    "### Search Contact"
   ]
  },
  {
   "cell_type": "code",
   "execution_count": 38,
   "metadata": {},
   "outputs": [
    {
     "name": "stdout",
     "output_type": "stream",
     "text": [
      "['name2', '9502305797', 'name2_123@gmail.com']\n"
     ]
    }
   ],
   "source": [
    "import re\n",
    "def searchContact(name):\n",
    "    filepath = \"DataFiles/contacts.txt\"\n",
    "    if checkContactExists(name):\n",
    "        with open(filepath,'r') as f:\n",
    "            fileData = f.read()\n",
    "            p = '[\\n]'\n",
    "            lis = re.split(p,fileData)\n",
    "            contact = []\n",
    "            for i in range(0,len(lis)):\n",
    "                contact = lis[i].split(',')\n",
    "                if name in contact:\n",
    "                    print(contact)\n",
    "\n",
    "    else:\n",
    "        print(name,\"not Exist\")\n",
    "            \n",
    "searchContact(\"name2\")\n",
    "    "
   ]
  },
  {
   "cell_type": "markdown",
   "metadata": {},
   "source": [
    "### List All Contacts"
   ]
  },
  {
   "cell_type": "code",
   "execution_count": 2,
   "metadata": {},
   "outputs": [
    {
     "name": "stdout",
     "output_type": "stream",
     "text": [
      "name1,9502304797,name1_123@gmail.com\n",
      "\n",
      "name2,9502305797,name2_123@gmail.com\n",
      "\n"
     ]
    }
   ],
   "source": [
    "def listContacts(filepath):\n",
    "    with open(filepath,\"r\") as f:\n",
    "        fileData = f.read().split()\n",
    "        for i in range(len(fileData)):\n",
    "            print(fileData[i]+\"\\n\")\n",
    "        return\n",
    "filepath = \"DataFiles/contacts.txt\"\n",
    "listContacts(filepath)"
   ]
  },
  {
   "cell_type": "markdown",
   "metadata": {},
   "source": [
    "### Edit Contact or Modify Contact"
   ]
  },
  {
   "cell_type": "code",
   "execution_count": 39,
   "metadata": {},
   "outputs": [],
   "source": [
    "def editContact(name, newphone, newemail):\n",
    "    filepath = \"DataFiles/contacts.txt\"\n",
    "    if checkContactExists(name):\n",
    "        with open(filepath,'r') as f:\n",
    "            fileData = f.read()\n",
    "            p = '[\\n]'\n",
    "            lis = re.split(p,fileData)\n",
    "            contact = []\n",
    "            for i in range(0,len(lis)):\n",
    "                contact = lis[i].split(',')\n",
    "                if name in contact:\n",
    "                    print(contact)\n",
    "\n",
    "    else:\n",
    "        print(name,\"not Exist\")\n",
    "    "
   ]
  },
  {
   "cell_type": "markdown",
   "metadata": {},
   "source": [
    "### Delete Contact"
   ]
  },
  {
   "cell_type": "code",
   "execution_count": null,
   "metadata": {},
   "outputs": [],
   "source": [
    "def deleteContact(name):\n",
    "    "
   ]
  },
  {
   "cell_type": "markdown",
   "metadata": {},
   "source": [
    "### OverAll Contact App"
   ]
  },
  {
   "cell_type": "code",
   "execution_count": null,
   "metadata": {},
   "outputs": [],
   "source": [
    "def contactApp(filepath):\n",
    "    while True:\n",
    "        n = int(input(\"Choose Your Choice : \\n 1.Add Contact \\n 2.SearchContact \\n 3.list Contacts \\n 4.Edit Contact \\n 5.Delete Contact \\ n \" ))\n",
    "        "
   ]
  }
 ],
 "metadata": {
  "kernelspec": {
   "display_name": "Python 3",
   "language": "python",
   "name": "python3"
  },
  "language_info": {
   "codemirror_mode": {
    "name": "ipython",
    "version": 3
   },
   "file_extension": ".py",
   "mimetype": "text/x-python",
   "name": "python",
   "nbconvert_exporter": "python",
   "pygments_lexer": "ipython3",
   "version": "3.7.3"
  }
 },
 "nbformat": 4,
 "nbformat_minor": 2
}
