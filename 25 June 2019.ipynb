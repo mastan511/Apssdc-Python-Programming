{
 "cells": [
  {
   "cell_type": "markdown",
   "metadata": {},
   "source": [
    "### Date 25 June 2019\n",
    "\n",
    "# Contacts Application\n",
    "    # Add ,Search,List,Modify Delete Contacts\n",
    "    \n",
    "# FInd and Replace Application\n",
    "    # Count the totalNumber of occurances of a word\n",
    "    # If Word is existing \n",
    "    # replace all ocuurances of a word with another word\n",
    "#Marks Analysis Application\n",
    "    # Generate marks file for n students - (Rand.int())\n",
    "    # Input : Marks text file - each line contains marks of one student\n",
    "    # Generates a report with the following information\n",
    "        # Class Average\n",
    "        # % of students passed\n",
    "        # % of students failed\n",
    "        # % of students with distinction\n",
    "        # Highest Mark Frequency\n",
    "        # Lowest Mark Frequency"
   ]
  },
  {
   "cell_type": "code",
   "execution_count": 9,
   "metadata": {},
   "outputs": [
    {
     "ename": "SyntaxError",
     "evalue": "invalid syntax (<ipython-input-9-87b4341c249b>, line 11)",
     "output_type": "error",
     "traceback": [
      "\u001b[1;36m  File \u001b[1;32m\"<ipython-input-9-87b4341c249b>\"\u001b[1;36m, line \u001b[1;32m11\u001b[0m\n\u001b[1;33m    for n in not in unique:\u001b[0m\n\u001b[1;37m                  ^\u001b[0m\n\u001b[1;31mSyntaxError\u001b[0m\u001b[1;31m:\u001b[0m invalid syntax\n"
     ]
    }
   ],
   "source": [
    "# Practice exam Task FrequencyDigits\n",
    "# s = 123abc456def\n",
    "#0 1 1 1 1 1 1 0 0 0 \n",
    "#s = c\n",
    "#0 0 0 0 0 0 0 0 0 0 \n",
    "# s = 1234567890\n",
    "#1 1 1 1 1 1 1 1 1 \n",
    "\n",
    "def UniqueData(allnumbers):\n",
    "    unique = []\n",
    "    for n in not in unique:\n",
    "        unique.append(n)\n",
    "    return unique\n",
    "\n",
    "def digitFrequency(s):\n",
    "    allnumbers = []\n",
    "    for i in s:\n",
    "        if i.isdigit():\n",
    "            allnumbers.append(i)\n",
    "   #unique = UniqueData(allnumbers)\n",
    "    \n",
    "\n",
    "digitFrequency(s)\n",
    "\n",
    "\n",
    "\n",
    "\n",
    "\n",
    "\n",
    "\n"
   ]
  },
  {
   "cell_type": "code",
   "execution_count": 11,
   "metadata": {},
   "outputs": [
    {
     "name": "stdout",
     "output_type": "stream",
     "text": [
      "0\n",
      "1\n",
      "1\n",
      "1\n",
      "1\n",
      "1\n",
      "1\n",
      "0\n",
      "0\n",
      "0\n",
      "0\n",
      "0\n"
     ]
    }
   ],
   "source": [
    "def digitFrequency(s):\n",
    "    for i in range(0,len(s)):\n",
    "        count = s.count(str(i))\n",
    "        print(count)\n",
    "    return\n",
    "digitFrequency(\"123abc456def\")"
   ]
  },
  {
   "cell_type": "code",
   "execution_count": 13,
   "metadata": {},
   "outputs": [
    {
     "data": {
      "text/plain": [
       "True"
      ]
     },
     "execution_count": 13,
     "metadata": {},
     "output_type": "execute_result"
    }
   ],
   "source": [
    "# Function to check if two strings \n",
    "# abc cba -> True\n",
    "#aabbcc ccbbaaa ->False\n",
    "def checkAnagrams(s1,s2):\n",
    "    if len(s1) != len(s2):\n",
    "        return False\n",
    "    if sorted(s1) == sorted(s2):\n",
    "        return True\n",
    "    return False\n",
    "checkAnagrams(\"abc\",\"bca\")\n",
    "\n",
    "def charDeletionsAnagrams(s1,s2):\n",
    "    \n",
    "\n",
    "\n",
    "\n",
    "\n",
    "\n"
   ]
  },
  {
   "cell_type": "code",
   "execution_count": 20,
   "metadata": {},
   "outputs": [],
   "source": [
    "s1=\"aabcde\"\n",
    "s2=\"aaabcd\""
   ]
  },
  {
   "cell_type": "code",
   "execution_count": 22,
   "metadata": {},
   "outputs": [
    {
     "name": "stdout",
     "output_type": "stream",
     "text": [
      "['a', 'a', 'b', 'c', 'd', 'e']\n",
      "{'c', 'b', 'e', 'd', 'a'}\n",
      "['a', 'a', 'a', 'b', 'c', 'd']\n",
      "{'d', 'a', 'c', 'b'}\n"
     ]
    }
   ],
   "source": [
    "s1=list(s1)\n",
    "print(s1)\n",
    "s1=set(s1)\n",
    "print(s1)\n",
    "s2=list(s2)\n",
    "print(s2)\n",
    "s2=set(s2)\n",
    "print(s2)\n"
   ]
  },
  {
   "cell_type": "code",
   "execution_count": 28,
   "metadata": {},
   "outputs": [
    {
     "data": {
      "text/plain": [
       "-1"
      ]
     },
     "execution_count": 28,
     "metadata": {},
     "output_type": "execute_result"
    }
   ],
   "source": [
    "def kLargestFrequency(s,k):\n",
    "    # Construct the frequency for all unique characters\n",
    "    unique = []\n",
    "    freq = {}\n",
    "    for i in s:\n",
    "        if i not in freq.keys():\n",
    "            freq[i] = s.count(i)\n",
    "    # Extract unique frequencies in decending order\n",
    "    values = sorted(freq.values(),reverse = True)\n",
    "    uniquevalues = list(set(values))\n",
    "    uniquevalues=sorted(uniquevalues,reverse = True)\n",
    "    # Identify the kth largest frequency\n",
    "    if k <= len(uniquevalues):\n",
    "        kvalue = uniquevalues[k-1]\n",
    "    else:\n",
    "        return -1\n",
    "    \n",
    "    li = []\n",
    "    for item in freq.items():\n",
    "        if item[1] == kvalue:\n",
    "            li.append(item[0])\n",
    "    return min(li)\n",
    "kLargestFrequency('aabcd',3)\n",
    "    "
   ]
  },
  {
   "cell_type": "code",
   "execution_count": null,
   "metadata": {},
   "outputs": [],
   "source": []
  }
 ],
 "metadata": {
  "kernelspec": {
   "display_name": "Python 3",
   "language": "python",
   "name": "python3"
  },
  "language_info": {
   "codemirror_mode": {
    "name": "ipython",
    "version": 3
   },
   "file_extension": ".py",
   "mimetype": "text/x-python",
   "name": "python",
   "nbconvert_exporter": "python",
   "pygments_lexer": "ipython3",
   "version": "3.7.3"
  }
 },
 "nbformat": 4,
 "nbformat_minor": 2
}
