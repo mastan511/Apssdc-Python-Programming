{
 "cells": [
  {
   "cell_type": "markdown",
   "metadata": {},
   "source": [
    "### Mark Down Basics\n",
    "\n",
    "* **Bold**  \n",
    "* *Italic*   \n",
    "* ***IB***\n",
    "* Normal Text\n",
    " * Sublist1\n",
    " * Sublist2\n",
    " \n",
    " \n",
    "1.Ordered \"\\t\" List 1<br>\n",
    "2.Ordered List 2\n",
    "\n",
    "- [ ] Option 1\n",
    "- [ ] Option 2\n",
    "- [x] Option 3\n",
    "\n",
    "\n",
    "<mastanvali.p@apssdc.in>\n",
    "\n",
    "\n",
    "'printf(\"Hello Mastan\")'\n",
    "\n",
    "I get 10 times more traffic from [Google] [1] than from\n",
    "[Yahoo] [2] or [MSN] [3].\n",
    "\n",
    "  [1]: http://google.com/        \"Google\"\n",
    "  [2]: http://search.yahoo.com/  \"Yahoo Search\"\n",
    "  [3]: http://search.msn.com/    \"MSN Search\"\n",
    "\n",
    "\n",
    "\n",
    "\n",
    "\n",
    "\n",
    "\n",
    "> Mastan Vali\n",
    "> Vali MAstan\n",
    "\n",
    "<img src=\"a.jpg\" style=\"float:left\"><br>\n",
    "\n",
    "\n",
    "[My Image](a.jpg)\n",
    "\n",
    "\n",
    "\n",
    "\n",
    "\n"
   ]
  },
  {
   "cell_type": "markdown",
   "metadata": {},
   "source": [
    "### Python Basics\n",
    "\n",
    "Python Version 3.7\n",
    "\n",
    "- Scripting\n",
    "- Object Orinted\n",
    "- Functional"
   ]
  },
  {
   "cell_type": "code",
   "execution_count": 7,
   "metadata": {},
   "outputs": [
    {
     "name": "stdout",
     "output_type": "stream",
     "text": [
      "Good Afternoon ! Mastan Vali||Hello Python\n"
     ]
    }
   ],
   "source": [
    "# Pyhton Comments\n",
    "\n",
    "print(\"Good Afternoon !\",\"Mastan Vali\", end=\"||\") # Basic Output\n",
    "\n",
    "print(\"Hello Python\")\n",
    "\n",
    "\n"
   ]
  },
  {
   "cell_type": "code",
   "execution_count": null,
   "metadata": {},
   "outputs": [],
   "source": []
  },
  {
   "cell_type": "markdown",
   "metadata": {},
   "source": [
    "### Assignment"
   ]
  },
  {
   "cell_type": "code",
   "execution_count": 15,
   "metadata": {},
   "outputs": [
    {
     "name": "stdout",
     "output_type": "stream",
     "text": [
      "123 234 345\n"
     ]
    }
   ],
   "source": [
    "n1 = 123456 # Single Varble assignment\n",
    "n2 = n3 = n4 = n1  # Multiline varible Assignment\n",
    "a,b,c = 123, 234, 345\n",
    "\n",
    "print(a,b,c)"
   ]
  },
  {
   "cell_type": "code",
   "execution_count": null,
   "metadata": {},
   "outputs": [],
   "source": []
  },
  {
   "cell_type": "markdown",
   "metadata": {},
   "source": [
    "### Data Types\n",
    "- int\n",
    "- float\n",
    "- string\n",
    "- double"
   ]
  },
  {
   "cell_type": "code",
   "execution_count": null,
   "metadata": {},
   "outputs": [],
   "source": [
    "s1 = \"Python\"\n",
    "type(s1)\n",
    "\n",
    "f1 = 12.345\n",
    "type(f1)\n",
    "\n",
    "int(f1)\n",
    "\n",
    "\n",
    "\n"
   ]
  },
  {
   "cell_type": "code",
   "execution_count": null,
   "metadata": {},
   "outputs": [],
   "source": []
  },
  {
   "cell_type": "code",
   "execution_count": null,
   "metadata": {},
   "outputs": [],
   "source": []
  },
  {
   "cell_type": "code",
   "execution_count": null,
   "metadata": {},
   "outputs": [],
   "source": []
  },
  {
   "cell_type": "markdown",
   "metadata": {},
   "source": [
    "### Arithematic Operations\n",
    "\n",
    "- +\n",
    "- -\n",
    "- **\n",
    "- *\n",
    "- /\n",
    "- %"
   ]
  },
  {
   "cell_type": "code",
   "execution_count": null,
   "metadata": {},
   "outputs": [],
   "source": [
    "n1 % 11 #11 is not a factor of n1 \n",
    "\n",
    "n3 = n2 ** 1234\n",
    "\n",
    "type(n3)\n",
    "len(str(n3))"
   ]
  },
  {
   "cell_type": "code",
   "execution_count": null,
   "metadata": {},
   "outputs": [],
   "source": [
    "atoms=10 ** 82"
   ]
  },
  {
   "cell_type": "code",
   "execution_count": null,
   "metadata": {},
   "outputs": [],
   "source": []
  },
  {
   "cell_type": "markdown",
   "metadata": {},
   "source": [
    "### Conditionals"
   ]
  },
  {
   "cell_type": "code",
   "execution_count": 3,
   "metadata": {},
   "outputs": [
    {
     "name": "stdout",
     "output_type": "stream",
     "text": [
      "Fasle\n"
     ]
    }
   ],
   "source": [
    "v=10\n",
    "if v > 25:\n",
    "    print(\"True\")\n",
    "else:\n",
    "    print(\"Fasle\")"
   ]
  },
  {
   "cell_type": "code",
   "execution_count": 4,
   "metadata": {},
   "outputs": [
    {
     "name": "stdout",
     "output_type": "stream",
     "text": [
      "Odd\n"
     ]
    }
   ],
   "source": [
    "n=123\n",
    "if n % 2==0:\n",
    "    print(\"Even\")\n",
    "else:\n",
    "    print(\"Odd\")"
   ]
  },
  {
   "cell_type": "code",
   "execution_count": 6,
   "metadata": {},
   "outputs": [
    {
     "name": "stdout",
     "output_type": "stream",
     "text": [
      "Enter the first number-1\n",
      "Enter the second number-50\n",
      "Enter the third number-2\n",
      "-1 is the greatest\n"
     ]
    }
   ],
   "source": [
    "# Find the Greatest of 3 numbers\n",
    "n1 = int(input(\"Enter the first number\"))\n",
    "n2 = int(input(\"Enter the second number\"))\n",
    "n3 = int(input(\"Enter the third number\"))\n",
    "if n1 > n2 and n1 > n3:\n",
    "    print(n1, \"is the greatest\")\n",
    "elif n2 > n3:\n",
    "    print(n2, \"is the greatest\")\n",
    "else:\n",
    "    print(n3, \"is the greatest\")"
   ]
  },
  {
   "cell_type": "code",
   "execution_count": 28,
   "metadata": {},
   "outputs": [
    {
     "name": "stdout",
     "output_type": "stream",
     "text": [
      "Enter year2005\n",
      " not Leap Year\n"
     ]
    }
   ],
   "source": [
    "# check if an year is leap year\n",
    "year = int(input(\"Enter year\"))\n",
    "if (year%400 == 0 or (year%100 != 0 and year%4==0)):\n",
    "    print(\"Leap year\")\n",
    "else:\n",
    "     print(\" not Leap Year\")\n",
    "    "
   ]
  },
  {
   "cell_type": "code",
   "execution_count": 12,
   "metadata": {},
   "outputs": [
    {
     "name": "stdout",
     "output_type": "stream",
     "text": [
      "Enter a number10\n",
      "Enter a lower Bound number 20\n",
      "Enter a upper Bound number 15\n",
      "Not Exists\n"
     ]
    }
   ],
   "source": [
    "# Check if a number exists in a given range\n",
    "n1=int(input(\"Enter a number\"))\n",
    "lb=int(input(\"Enter a lower Bound number \"))\n",
    "ub=int(input(\"Enter a upper Bound number \"))\n",
    "if n1 in :\n",
    "    print(\"Exist\")\n",
    "else:\n",
    "    print(\"Not Exists\")"
   ]
  },
  {
   "cell_type": "code",
   "execution_count": 29,
   "metadata": {},
   "outputs": [
    {
     "name": "stdout",
     "output_type": "stream",
     "text": [
      "Enter a number2019\n"
     ]
    },
    {
     "data": {
      "text/plain": [
       "4"
      ]
     },
     "execution_count": 29,
     "metadata": {},
     "output_type": "execute_result"
    }
   ],
   "source": [
    "# Calculate the number of digits in a number\n",
    "n1=input(\"Enter a number\")\n",
    "len(str(n1))"
   ]
  },
  {
   "cell_type": "code",
   "execution_count": 19,
   "metadata": {},
   "outputs": [
    {
     "name": "stdout",
     "output_type": "stream",
     "text": [
      "Enter a number3\n",
      "Not Divisible by 10\n"
     ]
    }
   ],
   "source": [
    "# Check if a number is a multiple of 10\n",
    "n1=int(input(\"Enter a number\"))\n",
    "if n1%10 == 0:\n",
    "    print(\"the given number is devisible by 10\")\n",
    "else:\n",
    "    print(\"Not Divisible by 10\")"
   ]
  },
  {
   "cell_type": "code",
   "execution_count": 21,
   "metadata": {},
   "outputs": [
    {
     "name": "stdout",
     "output_type": "stream",
     "text": [
      "Enter a number20\n",
      "yes\n"
     ]
    }
   ],
   "source": [
    "# check if a number is a factor of 1000\n",
    "n1=int(input(\"Enter a number\"))\n",
    "if 1000%n1 == 0:\n",
    "    print(\"yes\")\n",
    "else:\n",
    "    print(\"No\")"
   ]
  },
  {
   "cell_type": "code",
   "execution_count": 30,
   "metadata": {},
   "outputs": [
    {
     "name": "stdout",
     "output_type": "stream",
     "text": [
      "Enter a number20\n",
      "Enter a number29\n",
      "False\n"
     ]
    }
   ],
   "source": [
    "# check if given string is equal to a number\n",
    "a=input(\"Enter a number\")\n",
    "b=input(\"Enter a number\")\n",
    "if a == b:\n",
    "    print(\"True\")\n",
    "else:\n",
    "    print(\"False\")"
   ]
  },
  {
   "cell_type": "code",
   "execution_count": 31,
   "metadata": {},
   "outputs": [
    {
     "name": "stdout",
     "output_type": "stream",
     "text": [
      "Enter a number20\n",
      "4.47213595499958\n"
     ]
    }
   ],
   "source": [
    "# Caculate the square root of a number without function\n",
    "\n",
    "n1=int(input(\"Enter a number\"))\n",
    "res = n1**0.5\n",
    "print(res)"
   ]
  },
  {
   "cell_type": "code",
   "execution_count": 33,
   "metadata": {},
   "outputs": [
    {
     "name": "stdout",
     "output_type": "stream",
     "text": [
      "31622400000000000\n"
     ]
    }
   ],
   "source": [
    "# Caculate the number of nano seconds in a given year (consider the leap year logic)\n",
    "year = 2019\n",
    "if (year%400 == 0 or (year%100 != 0 and year%4==0)):\n",
    "    print(366 * 24 * 60 * 60 * (10**9))\n",
    "else:\n",
    "    print(366 * 24 * 60 * 60 * (10**9))\n",
    "   "
   ]
  },
  {
   "cell_type": "code",
   "execution_count": null,
   "metadata": {},
   "outputs": [],
   "source": []
  },
  {
   "cell_type": "code",
   "execution_count": null,
   "metadata": {},
   "outputs": [],
   "source": []
  },
  {
   "cell_type": "code",
   "execution_count": null,
   "metadata": {},
   "outputs": [],
   "source": []
  }
 ],
 "metadata": {
  "kernelspec": {
   "display_name": "Python 3",
   "language": "python",
   "name": "python3"
  },
  "language_info": {
   "codemirror_mode": {
    "name": "ipython",
    "version": 3
   },
   "file_extension": ".py",
   "mimetype": "text/x-python",
   "name": "python",
   "nbconvert_exporter": "python",
   "pygments_lexer": "ipython3",
   "version": "3.7.3"
  }
 },
 "nbformat": 4,
 "nbformat_minor": 2
}
